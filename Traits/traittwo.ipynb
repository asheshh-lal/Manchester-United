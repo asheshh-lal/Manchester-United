{
 "cells": [
  {
   "cell_type": "code",
   "execution_count": 1,
   "id": "84b1a25b",
   "metadata": {},
   "outputs": [],
   "source": [
    "import pandas as pd\n",
    "import numpy as np\n",
    "import plotly.express as px\n",
    "import matplotlib.pyplot as plt\n",
    "import seaborn as sns\n",
    "import datetime as dt\n",
    "import sklearn\n",
    "from sklearn.preprocessing import StandardScaler\n",
    "from sklearn.cluster import KMeans\n",
    "from sklearn.metrics import silhouette_score\n",
    "from scipy.cluster.hierarchy import linkage\n",
    "from scipy.cluster.hierarchy import dendrogram\n",
    "from scipy.cluster.hierarchy import cut_tree\n",
    "from sklearn.neighbors import NearestNeighbors\n",
    "from random import sample\n",
    "from numpy.random import uniform\n",
    "from math import isnan"
   ]
  },
  {
   "cell_type": "code",
   "execution_count": 2,
   "id": "fcac4755",
   "metadata": {},
   "outputs": [],
   "source": [
    "df = pd.read_csv(\"../Datasets/pass_types.csv\")\n",
    "df2 = pd.read_csv(\"../Datasets/passing_stats.csv\")"
   ]
  },
  {
   "cell_type": "markdown",
   "id": "a5d72be3",
   "metadata": {},
   "source": [
    "### About the dataset (pass_types.csv) df\n",
    "- **Nation:** \n",
    "  - Records in international play at senior level\n",
    "  - Records in international play at youth level\n",
    "  - Citizenship presented on Wikipedia\n",
    "  - Birthplace when available\n",
    "\n",
    "- **Pos:** Position most commonly played:\n",
    "  - GK: Goalkeepers\n",
    "  - DF: Defenders (FB, LB, RB, CB)\n",
    "  - MF: Midfielders (DM, CM, LM, RM, WM, LW, RW, AM)\n",
    "  - FW: Forwards\n",
    "\n",
    "- **Age:** Age at the start of the season\n",
    "\n",
    "- **90s:** 90s played (minutes played divided by 90)\n",
    "\n",
    "- **Passing Statistics:**\n",
    "  - Passes Attempted (Att) by type:\n",
    "    - Live-ball Passes\n",
    "    - Dead-ball Passes (includes free kicks, corner kicks, kickoffs, throw-ins, and goal kicks)\n",
    "    - Passes from Free Kicks (FK)\n",
    "    - Through Balls (TB)\n",
    "    - Switches (Sw)\n",
    "    - Crosses (Crs)\n",
    "    - Throw-ins Taken (TI)\n",
    "    - Corner Kicks (CK) with subcategories:\n",
    "      - Inswinging (In)\n",
    "      - Outswinging (Out)\n",
    "      - Straight (Str)\n",
    "\n",
    "- **Outcomes of Passes:**\n",
    "  - Passes Completed (Cmp)\n",
    "  - Offsides (Off)\n",
    "  - Passes Blocked (Blocks)"
   ]
  },
  {
   "cell_type": "code",
   "execution_count": 3,
   "id": "b40351cb",
   "metadata": {},
   "outputs": [
    {
     "data": {
      "text/html": [
       "<div>\n",
       "<style scoped>\n",
       "    .dataframe tbody tr th:only-of-type {\n",
       "        vertical-align: middle;\n",
       "    }\n",
       "\n",
       "    .dataframe tbody tr th {\n",
       "        vertical-align: top;\n",
       "    }\n",
       "\n",
       "    .dataframe thead th {\n",
       "        text-align: right;\n",
       "    }\n",
       "</style>\n",
       "<table border=\"1\" class=\"dataframe\">\n",
       "  <thead>\n",
       "    <tr style=\"text-align: right;\">\n",
       "      <th></th>\n",
       "      <th>Unnamed: 0</th>\n",
       "      <th>Unnamed: 0_level_0</th>\n",
       "      <th>Unnamed: 1_level_0</th>\n",
       "      <th>Unnamed: 2_level_0</th>\n",
       "      <th>Unnamed: 3_level_0</th>\n",
       "      <th>Unnamed: 4_level_0</th>\n",
       "      <th>Unnamed: 5_level_0</th>\n",
       "      <th>Pass Types</th>\n",
       "      <th>Pass Types.1</th>\n",
       "      <th>Pass Types.2</th>\n",
       "      <th>...</th>\n",
       "      <th>Pass Types.5</th>\n",
       "      <th>Pass Types.6</th>\n",
       "      <th>Pass Types.7</th>\n",
       "      <th>Corner Kicks</th>\n",
       "      <th>Corner Kicks.1</th>\n",
       "      <th>Corner Kicks.2</th>\n",
       "      <th>Outcomes</th>\n",
       "      <th>Outcomes.1</th>\n",
       "      <th>Outcomes.2</th>\n",
       "      <th>Unnamed: 20_level_0</th>\n",
       "    </tr>\n",
       "  </thead>\n",
       "  <tbody>\n",
       "    <tr>\n",
       "      <th>0</th>\n",
       "      <td>NaN</td>\n",
       "      <td>Player</td>\n",
       "      <td>Nation</td>\n",
       "      <td>Pos</td>\n",
       "      <td>Age</td>\n",
       "      <td>90s</td>\n",
       "      <td>Att</td>\n",
       "      <td>Live</td>\n",
       "      <td>Dead</td>\n",
       "      <td>FK</td>\n",
       "      <td>...</td>\n",
       "      <td>Crs</td>\n",
       "      <td>TI</td>\n",
       "      <td>CK</td>\n",
       "      <td>In</td>\n",
       "      <td>Out</td>\n",
       "      <td>Str</td>\n",
       "      <td>Cmp</td>\n",
       "      <td>Off</td>\n",
       "      <td>Blocks</td>\n",
       "      <td>Matches</td>\n",
       "    </tr>\n",
       "    <tr>\n",
       "      <th>1</th>\n",
       "      <td>0.0</td>\n",
       "      <td>David de Gea</td>\n",
       "      <td>es ESP</td>\n",
       "      <td>GK</td>\n",
       "      <td>31</td>\n",
       "      <td>58.3</td>\n",
       "      <td>1581.0</td>\n",
       "      <td>1265.0</td>\n",
       "      <td>308.0</td>\n",
       "      <td>77.0</td>\n",
       "      <td>...</td>\n",
       "      <td>0</td>\n",
       "      <td>0.0</td>\n",
       "      <td>0.0</td>\n",
       "      <td>0.0</td>\n",
       "      <td>0.0</td>\n",
       "      <td>0.0</td>\n",
       "      <td>1148.0</td>\n",
       "      <td>8.0</td>\n",
       "      <td>1.0</td>\n",
       "      <td>Matches</td>\n",
       "    </tr>\n",
       "    <tr>\n",
       "      <th>2</th>\n",
       "      <td>1.0</td>\n",
       "      <td>Bruno Fernandes</td>\n",
       "      <td>pt POR</td>\n",
       "      <td>MF,FW</td>\n",
       "      <td>27</td>\n",
       "      <td>57.3</td>\n",
       "      <td>2581.0</td>\n",
       "      <td>2330.0</td>\n",
       "      <td>235.0</td>\n",
       "      <td>43.0</td>\n",
       "      <td>...</td>\n",
       "      <td>243</td>\n",
       "      <td>36.0</td>\n",
       "      <td>109.0</td>\n",
       "      <td>26.0</td>\n",
       "      <td>36.0</td>\n",
       "      <td>2.0</td>\n",
       "      <td>1919.0</td>\n",
       "      <td>16.0</td>\n",
       "      <td>82.0</td>\n",
       "      <td>Matches</td>\n",
       "    </tr>\n",
       "    <tr>\n",
       "      <th>3</th>\n",
       "      <td>2.0</td>\n",
       "      <td>Marcus Rashford</td>\n",
       "      <td>eng ENG</td>\n",
       "      <td>FW</td>\n",
       "      <td>24</td>\n",
       "      <td>47.6</td>\n",
       "      <td>1020.0</td>\n",
       "      <td>982.0</td>\n",
       "      <td>33.0</td>\n",
       "      <td>3.0</td>\n",
       "      <td>...</td>\n",
       "      <td>38</td>\n",
       "      <td>13.0</td>\n",
       "      <td>0.0</td>\n",
       "      <td>0.0</td>\n",
       "      <td>0.0</td>\n",
       "      <td>0.0</td>\n",
       "      <td>787.0</td>\n",
       "      <td>5.0</td>\n",
       "      <td>38.0</td>\n",
       "      <td>Matches</td>\n",
       "    </tr>\n",
       "    <tr>\n",
       "      <th>4</th>\n",
       "      <td>3.0</td>\n",
       "      <td>Casemiro</td>\n",
       "      <td>br BRA</td>\n",
       "      <td>MF</td>\n",
       "      <td>30</td>\n",
       "      <td>43.3</td>\n",
       "      <td>2166.0</td>\n",
       "      <td>2115.0</td>\n",
       "      <td>41.0</td>\n",
       "      <td>36.0</td>\n",
       "      <td>...</td>\n",
       "      <td>24</td>\n",
       "      <td>4.0</td>\n",
       "      <td>0.0</td>\n",
       "      <td>0.0</td>\n",
       "      <td>0.0</td>\n",
       "      <td>0.0</td>\n",
       "      <td>1686.0</td>\n",
       "      <td>10.0</td>\n",
       "      <td>45.0</td>\n",
       "      <td>Matches</td>\n",
       "    </tr>\n",
       "  </tbody>\n",
       "</table>\n",
       "<p>5 rows × 22 columns</p>\n",
       "</div>"
      ],
      "text/plain": [
       "   Unnamed: 0 Unnamed: 0_level_0 Unnamed: 1_level_0 Unnamed: 2_level_0  \\\n",
       "0         NaN             Player             Nation                Pos   \n",
       "1         0.0       David de Gea             es ESP                 GK   \n",
       "2         1.0    Bruno Fernandes             pt POR              MF,FW   \n",
       "3         2.0    Marcus Rashford            eng ENG                 FW   \n",
       "4         3.0           Casemiro             br BRA                 MF   \n",
       "\n",
       "  Unnamed: 3_level_0 Unnamed: 4_level_0 Unnamed: 5_level_0 Pass Types  \\\n",
       "0                Age                90s                Att       Live   \n",
       "1                 31               58.3             1581.0     1265.0   \n",
       "2                 27               57.3             2581.0     2330.0   \n",
       "3                 24               47.6             1020.0      982.0   \n",
       "4                 30               43.3             2166.0     2115.0   \n",
       "\n",
       "  Pass Types.1 Pass Types.2  ... Pass Types.5 Pass Types.6 Pass Types.7  \\\n",
       "0         Dead           FK  ...          Crs           TI           CK   \n",
       "1        308.0         77.0  ...            0          0.0          0.0   \n",
       "2        235.0         43.0  ...          243         36.0        109.0   \n",
       "3         33.0          3.0  ...           38         13.0          0.0   \n",
       "4         41.0         36.0  ...           24          4.0          0.0   \n",
       "\n",
       "  Corner Kicks Corner Kicks.1 Corner Kicks.2 Outcomes Outcomes.1 Outcomes.2  \\\n",
       "0           In            Out            Str      Cmp        Off     Blocks   \n",
       "1          0.0            0.0            0.0   1148.0        8.0        1.0   \n",
       "2         26.0           36.0            2.0   1919.0       16.0       82.0   \n",
       "3          0.0            0.0            0.0    787.0        5.0       38.0   \n",
       "4          0.0            0.0            0.0   1686.0       10.0       45.0   \n",
       "\n",
       "  Unnamed: 20_level_0  \n",
       "0             Matches  \n",
       "1             Matches  \n",
       "2             Matches  \n",
       "3             Matches  \n",
       "4             Matches  \n",
       "\n",
       "[5 rows x 22 columns]"
      ]
     },
     "execution_count": 3,
     "metadata": {},
     "output_type": "execute_result"
    }
   ],
   "source": [
    "df.head()"
   ]
  },
  {
   "cell_type": "markdown",
   "id": "ab7e0070",
   "metadata": {},
   "source": [
    "### About the dataset (Passing_stats.csv) df2\n",
    "- **Nation:** \n",
    "  - Records in international play at senior level\n",
    "  - Records in international play at youth level\n",
    "  - Citizenship presented on Wikipedia\n",
    "  - Birthplace when available\n",
    "\n",
    "- **Pos:** Position most commonly played:\n",
    "  - GK: Goalkeepers\n",
    "  - DF: Defenders (including FB, LB, RB, CB)\n",
    "  - MF: Midfielders (including DM, CM, LM, RM, WM, LW, RW, AM)\n",
    "  - FW: Forwards\n",
    "\n",
    "- **Age:** Age at the start of the season\n",
    "\n",
    "- **90s:** 90s played (minutes played divided by 90)\n",
    "\n",
    "- **Passing Statistics:**\n",
    "  - Total Passes Completed (Cmp) and Attempted (Att)\n",
    "  - Pass Completion Percentage (Cmp%)\n",
    "  - Total Passing Distance (TotDist)\n",
    "  - Progressive Passing Distance (PrgDist)\n",
    "  - Short Passes (between 5 and 15 yards)\n",
    "    - Passes Completed (Cmp)\n",
    "    - Passes Attempted (Att)\n",
    "    - Pass Completion Percentage (Cmp%)\n",
    "  - Medium Passes (between 15 and 30 yards)\n",
    "    - Passes Completed (Cmp)\n",
    "    - Passes Attempted (Att)\n",
    "    - Pass Completion Percentage (Cmp%)\n",
    "  - Long Passes (longer than 30 yards)\n",
    "    - Passes Completed (Cmp)\n",
    "    - Passes Attempted (Att)\n",
    "    - Pass Completion Percentage (Cmp%)\n",
    "\n",
    "- **Assists and Expected Assists (xA):**\n",
    "  - Total Assists (Ast)\n",
    "  - Expected Assisted Goals (xAG)\n",
    "  - Expected Assists (xA)\n",
    "  - Assists minus Expected Goals Assisted (A-xAG)\n",
    "\n",
    "- **Key Passes (KP):** Passes that directly lead to a shot\n",
    "\n",
    "- **Passes into Final Third (1/3):** Completed passes that enter the 1/3 of the pitch closest to the goal, not including set pieces\n",
    "\n",
    "- **Passes into Penalty Area (PPA):** Completed passes into the 18-yard box, not including set pieces\n",
    "\n",
    "- **Crosses into Penalty Area (CrsPA):** Completed crosses into the 18-yard box, not including set pieces\n",
    "\n",
    "- **Progressive Passes (PrgP):** Completed passes that move the ball towards the opponent's goal line, excluding passes from the defending 40% of the pitch"
   ]
  },
  {
   "cell_type": "code",
   "execution_count": 4,
   "id": "81581751",
   "metadata": {},
   "outputs": [
    {
     "data": {
      "text/html": [
       "<div>\n",
       "<style scoped>\n",
       "    .dataframe tbody tr th:only-of-type {\n",
       "        vertical-align: middle;\n",
       "    }\n",
       "\n",
       "    .dataframe tbody tr th {\n",
       "        vertical-align: top;\n",
       "    }\n",
       "\n",
       "    .dataframe thead th {\n",
       "        text-align: right;\n",
       "    }\n",
       "</style>\n",
       "<table border=\"1\" class=\"dataframe\">\n",
       "  <thead>\n",
       "    <tr style=\"text-align: right;\">\n",
       "      <th></th>\n",
       "      <th>Unnamed: 0</th>\n",
       "      <th>Unnamed: 0_level_0</th>\n",
       "      <th>Unnamed: 1_level_0</th>\n",
       "      <th>Unnamed: 2_level_0</th>\n",
       "      <th>Unnamed: 3_level_0</th>\n",
       "      <th>Unnamed: 4_level_0</th>\n",
       "      <th>Total</th>\n",
       "      <th>Total.1</th>\n",
       "      <th>Total.2</th>\n",
       "      <th>Total.3</th>\n",
       "      <th>...</th>\n",
       "      <th>Unnamed: 19_level_0</th>\n",
       "      <th>Unnamed: 20_level_0</th>\n",
       "      <th>Expected</th>\n",
       "      <th>Expected.1</th>\n",
       "      <th>Unnamed: 23_level_0</th>\n",
       "      <th>Unnamed: 24_level_0</th>\n",
       "      <th>Unnamed: 25_level_0</th>\n",
       "      <th>Unnamed: 26_level_0</th>\n",
       "      <th>Unnamed: 27_level_0</th>\n",
       "      <th>Unnamed: 28_level_0</th>\n",
       "    </tr>\n",
       "  </thead>\n",
       "  <tbody>\n",
       "    <tr>\n",
       "      <th>0</th>\n",
       "      <td>NaN</td>\n",
       "      <td>Player</td>\n",
       "      <td>Nation</td>\n",
       "      <td>Pos</td>\n",
       "      <td>Age</td>\n",
       "      <td>90s</td>\n",
       "      <td>Cmp</td>\n",
       "      <td>Att</td>\n",
       "      <td>Cmp%</td>\n",
       "      <td>TotDist</td>\n",
       "      <td>...</td>\n",
       "      <td>Ast</td>\n",
       "      <td>xAG</td>\n",
       "      <td>xA</td>\n",
       "      <td>A-xAG</td>\n",
       "      <td>KP</td>\n",
       "      <td>1/3</td>\n",
       "      <td>PPA</td>\n",
       "      <td>CrsPA</td>\n",
       "      <td>PrgP</td>\n",
       "      <td>Matches</td>\n",
       "    </tr>\n",
       "    <tr>\n",
       "      <th>1</th>\n",
       "      <td>0.0</td>\n",
       "      <td>David de Gea</td>\n",
       "      <td>es ESP</td>\n",
       "      <td>GK</td>\n",
       "      <td>31</td>\n",
       "      <td>58.3</td>\n",
       "      <td>1148.0</td>\n",
       "      <td>1581.0</td>\n",
       "      <td>72.6</td>\n",
       "      <td>29543.0</td>\n",
       "      <td>...</td>\n",
       "      <td>0</td>\n",
       "      <td>0.1</td>\n",
       "      <td>0.2</td>\n",
       "      <td>-0.1</td>\n",
       "      <td>1.0</td>\n",
       "      <td>9.0</td>\n",
       "      <td>1.0</td>\n",
       "      <td>0.0</td>\n",
       "      <td>0.0</td>\n",
       "      <td>Matches</td>\n",
       "    </tr>\n",
       "    <tr>\n",
       "      <th>2</th>\n",
       "      <td>1.0</td>\n",
       "      <td>Bruno Fernandes</td>\n",
       "      <td>pt POR</td>\n",
       "      <td>MF,FW</td>\n",
       "      <td>27</td>\n",
       "      <td>57.3</td>\n",
       "      <td>1919.0</td>\n",
       "      <td>2581.0</td>\n",
       "      <td>74.4</td>\n",
       "      <td>32978.0</td>\n",
       "      <td>...</td>\n",
       "      <td>13</td>\n",
       "      <td>21.7</td>\n",
       "      <td>14.9</td>\n",
       "      <td>-8.7</td>\n",
       "      <td>150.0</td>\n",
       "      <td>201.0</td>\n",
       "      <td>115.0</td>\n",
       "      <td>15.0</td>\n",
       "      <td>327.0</td>\n",
       "      <td>Matches</td>\n",
       "    </tr>\n",
       "    <tr>\n",
       "      <th>3</th>\n",
       "      <td>2.0</td>\n",
       "      <td>Marcus Rashford</td>\n",
       "      <td>eng ENG</td>\n",
       "      <td>FW</td>\n",
       "      <td>24</td>\n",
       "      <td>47.6</td>\n",
       "      <td>787.0</td>\n",
       "      <td>1020.0</td>\n",
       "      <td>77.2</td>\n",
       "      <td>11143.0</td>\n",
       "      <td>...</td>\n",
       "      <td>9</td>\n",
       "      <td>4.3</td>\n",
       "      <td>3.7</td>\n",
       "      <td>4.7</td>\n",
       "      <td>40.0</td>\n",
       "      <td>45.0</td>\n",
       "      <td>63.0</td>\n",
       "      <td>3.0</td>\n",
       "      <td>105.0</td>\n",
       "      <td>Matches</td>\n",
       "    </tr>\n",
       "    <tr>\n",
       "      <th>4</th>\n",
       "      <td>3.0</td>\n",
       "      <td>Casemiro</td>\n",
       "      <td>br BRA</td>\n",
       "      <td>MF</td>\n",
       "      <td>30</td>\n",
       "      <td>43.3</td>\n",
       "      <td>1686.0</td>\n",
       "      <td>2166.0</td>\n",
       "      <td>77.8</td>\n",
       "      <td>30359.0</td>\n",
       "      <td>...</td>\n",
       "      <td>6</td>\n",
       "      <td>4.4</td>\n",
       "      <td>4.9</td>\n",
       "      <td>1.6</td>\n",
       "      <td>41.0</td>\n",
       "      <td>214.0</td>\n",
       "      <td>30.0</td>\n",
       "      <td>5.0</td>\n",
       "      <td>232.0</td>\n",
       "      <td>Matches</td>\n",
       "    </tr>\n",
       "  </tbody>\n",
       "</table>\n",
       "<p>5 rows × 30 columns</p>\n",
       "</div>"
      ],
      "text/plain": [
       "   Unnamed: 0 Unnamed: 0_level_0 Unnamed: 1_level_0 Unnamed: 2_level_0  \\\n",
       "0         NaN             Player             Nation                Pos   \n",
       "1         0.0       David de Gea             es ESP                 GK   \n",
       "2         1.0    Bruno Fernandes             pt POR              MF,FW   \n",
       "3         2.0    Marcus Rashford            eng ENG                 FW   \n",
       "4         3.0           Casemiro             br BRA                 MF   \n",
       "\n",
       "  Unnamed: 3_level_0 Unnamed: 4_level_0   Total Total.1 Total.2  Total.3  ...  \\\n",
       "0                Age                90s     Cmp     Att    Cmp%  TotDist  ...   \n",
       "1                 31               58.3  1148.0  1581.0    72.6  29543.0  ...   \n",
       "2                 27               57.3  1919.0  2581.0    74.4  32978.0  ...   \n",
       "3                 24               47.6   787.0  1020.0    77.2  11143.0  ...   \n",
       "4                 30               43.3  1686.0  2166.0    77.8  30359.0  ...   \n",
       "\n",
       "  Unnamed: 19_level_0 Unnamed: 20_level_0 Expected Expected.1  \\\n",
       "0                 Ast                 xAG       xA      A-xAG   \n",
       "1                   0                 0.1      0.2       -0.1   \n",
       "2                  13                21.7     14.9       -8.7   \n",
       "3                   9                 4.3      3.7        4.7   \n",
       "4                   6                 4.4      4.9        1.6   \n",
       "\n",
       "  Unnamed: 23_level_0 Unnamed: 24_level_0 Unnamed: 25_level_0  \\\n",
       "0                  KP                 1/3                 PPA   \n",
       "1                 1.0                 9.0                 1.0   \n",
       "2               150.0               201.0               115.0   \n",
       "3                40.0                45.0                63.0   \n",
       "4                41.0               214.0                30.0   \n",
       "\n",
       "  Unnamed: 26_level_0 Unnamed: 27_level_0 Unnamed: 28_level_0  \n",
       "0               CrsPA                PrgP             Matches  \n",
       "1                 0.0                 0.0             Matches  \n",
       "2                15.0               327.0             Matches  \n",
       "3                 3.0               105.0             Matches  \n",
       "4                 5.0               232.0             Matches  \n",
       "\n",
       "[5 rows x 30 columns]"
      ]
     },
     "execution_count": 4,
     "metadata": {},
     "output_type": "execute_result"
    }
   ],
   "source": [
    "df2.head()"
   ]
  },
  {
   "cell_type": "markdown",
   "id": "f6cd3a45",
   "metadata": {},
   "source": [
    "### Preprocessing the datasets to name the first row as the columns"
   ]
  },
  {
   "cell_type": "code",
   "execution_count": 5,
   "id": "bb3cadaf",
   "metadata": {},
   "outputs": [
    {
     "data": {
      "text/html": [
       "<div>\n",
       "<style scoped>\n",
       "    .dataframe tbody tr th:only-of-type {\n",
       "        vertical-align: middle;\n",
       "    }\n",
       "\n",
       "    .dataframe tbody tr th {\n",
       "        vertical-align: top;\n",
       "    }\n",
       "\n",
       "    .dataframe thead th {\n",
       "        text-align: right;\n",
       "    }\n",
       "</style>\n",
       "<table border=\"1\" class=\"dataframe\">\n",
       "  <thead>\n",
       "    <tr style=\"text-align: right;\">\n",
       "      <th></th>\n",
       "      <th>Player</th>\n",
       "      <th>Nation</th>\n",
       "      <th>Pos</th>\n",
       "      <th>Age</th>\n",
       "      <th>90s</th>\n",
       "      <th>Att</th>\n",
       "      <th>Live</th>\n",
       "      <th>Dead</th>\n",
       "      <th>FK</th>\n",
       "      <th>TB</th>\n",
       "      <th>...</th>\n",
       "      <th>Crs</th>\n",
       "      <th>TI</th>\n",
       "      <th>CK</th>\n",
       "      <th>In</th>\n",
       "      <th>Out</th>\n",
       "      <th>Str</th>\n",
       "      <th>Cmp</th>\n",
       "      <th>Off</th>\n",
       "      <th>Blocks</th>\n",
       "      <th>Matches</th>\n",
       "    </tr>\n",
       "  </thead>\n",
       "  <tbody>\n",
       "    <tr>\n",
       "      <th>1</th>\n",
       "      <td>David de Gea</td>\n",
       "      <td>es ESP</td>\n",
       "      <td>GK</td>\n",
       "      <td>31</td>\n",
       "      <td>58.3</td>\n",
       "      <td>1581.0</td>\n",
       "      <td>1265.0</td>\n",
       "      <td>308.0</td>\n",
       "      <td>77.0</td>\n",
       "      <td>1.0</td>\n",
       "      <td>...</td>\n",
       "      <td>0</td>\n",
       "      <td>0.0</td>\n",
       "      <td>0.0</td>\n",
       "      <td>0.0</td>\n",
       "      <td>0.0</td>\n",
       "      <td>0.0</td>\n",
       "      <td>1148.0</td>\n",
       "      <td>8.0</td>\n",
       "      <td>1.0</td>\n",
       "      <td>Matches</td>\n",
       "    </tr>\n",
       "    <tr>\n",
       "      <th>2</th>\n",
       "      <td>Bruno Fernandes</td>\n",
       "      <td>pt POR</td>\n",
       "      <td>MF,FW</td>\n",
       "      <td>27</td>\n",
       "      <td>57.3</td>\n",
       "      <td>2581.0</td>\n",
       "      <td>2330.0</td>\n",
       "      <td>235.0</td>\n",
       "      <td>43.0</td>\n",
       "      <td>42.0</td>\n",
       "      <td>...</td>\n",
       "      <td>243</td>\n",
       "      <td>36.0</td>\n",
       "      <td>109.0</td>\n",
       "      <td>26.0</td>\n",
       "      <td>36.0</td>\n",
       "      <td>2.0</td>\n",
       "      <td>1919.0</td>\n",
       "      <td>16.0</td>\n",
       "      <td>82.0</td>\n",
       "      <td>Matches</td>\n",
       "    </tr>\n",
       "    <tr>\n",
       "      <th>3</th>\n",
       "      <td>Marcus Rashford</td>\n",
       "      <td>eng ENG</td>\n",
       "      <td>FW</td>\n",
       "      <td>24</td>\n",
       "      <td>47.6</td>\n",
       "      <td>1020.0</td>\n",
       "      <td>982.0</td>\n",
       "      <td>33.0</td>\n",
       "      <td>3.0</td>\n",
       "      <td>6.0</td>\n",
       "      <td>...</td>\n",
       "      <td>38</td>\n",
       "      <td>13.0</td>\n",
       "      <td>0.0</td>\n",
       "      <td>0.0</td>\n",
       "      <td>0.0</td>\n",
       "      <td>0.0</td>\n",
       "      <td>787.0</td>\n",
       "      <td>5.0</td>\n",
       "      <td>38.0</td>\n",
       "      <td>Matches</td>\n",
       "    </tr>\n",
       "    <tr>\n",
       "      <th>4</th>\n",
       "      <td>Casemiro</td>\n",
       "      <td>br BRA</td>\n",
       "      <td>MF</td>\n",
       "      <td>30</td>\n",
       "      <td>43.3</td>\n",
       "      <td>2166.0</td>\n",
       "      <td>2115.0</td>\n",
       "      <td>41.0</td>\n",
       "      <td>36.0</td>\n",
       "      <td>18.0</td>\n",
       "      <td>...</td>\n",
       "      <td>24</td>\n",
       "      <td>4.0</td>\n",
       "      <td>0.0</td>\n",
       "      <td>0.0</td>\n",
       "      <td>0.0</td>\n",
       "      <td>0.0</td>\n",
       "      <td>1686.0</td>\n",
       "      <td>10.0</td>\n",
       "      <td>45.0</td>\n",
       "      <td>Matches</td>\n",
       "    </tr>\n",
       "    <tr>\n",
       "      <th>5</th>\n",
       "      <td>Luke Shaw</td>\n",
       "      <td>eng ENG</td>\n",
       "      <td>DF</td>\n",
       "      <td>27</td>\n",
       "      <td>40.5</td>\n",
       "      <td>2469.0</td>\n",
       "      <td>2096.0</td>\n",
       "      <td>363.0</td>\n",
       "      <td>44.0</td>\n",
       "      <td>4.0</td>\n",
       "      <td>...</td>\n",
       "      <td>129</td>\n",
       "      <td>238.0</td>\n",
       "      <td>47.0</td>\n",
       "      <td>23.0</td>\n",
       "      <td>10.0</td>\n",
       "      <td>0.0</td>\n",
       "      <td>2048.0</td>\n",
       "      <td>10.0</td>\n",
       "      <td>48.0</td>\n",
       "      <td>Matches</td>\n",
       "    </tr>\n",
       "  </tbody>\n",
       "</table>\n",
       "<p>5 rows × 21 columns</p>\n",
       "</div>"
      ],
      "text/plain": [
       "            Player   Nation    Pos Age   90s     Att    Live   Dead    FK  \\\n",
       "1     David de Gea   es ESP     GK  31  58.3  1581.0  1265.0  308.0  77.0   \n",
       "2  Bruno Fernandes   pt POR  MF,FW  27  57.3  2581.0  2330.0  235.0  43.0   \n",
       "3  Marcus Rashford  eng ENG     FW  24  47.6  1020.0   982.0   33.0   3.0   \n",
       "4         Casemiro   br BRA     MF  30  43.3  2166.0  2115.0   41.0  36.0   \n",
       "5        Luke Shaw  eng ENG     DF  27  40.5  2469.0  2096.0  363.0  44.0   \n",
       "\n",
       "     TB  ...  Crs     TI     CK    In   Out  Str     Cmp   Off Blocks  Matches  \n",
       "1   1.0  ...    0    0.0    0.0   0.0   0.0  0.0  1148.0   8.0    1.0  Matches  \n",
       "2  42.0  ...  243   36.0  109.0  26.0  36.0  2.0  1919.0  16.0   82.0  Matches  \n",
       "3   6.0  ...   38   13.0    0.0   0.0   0.0  0.0   787.0   5.0   38.0  Matches  \n",
       "4  18.0  ...   24    4.0    0.0   0.0   0.0  0.0  1686.0  10.0   45.0  Matches  \n",
       "5   4.0  ...  129  238.0   47.0  23.0  10.0  0.0  2048.0  10.0   48.0  Matches  \n",
       "\n",
       "[5 rows x 21 columns]"
      ]
     },
     "execution_count": 5,
     "metadata": {},
     "output_type": "execute_result"
    }
   ],
   "source": [
    "## real column names are those in the first row\n",
    "real_column_names = df.iloc[0].values\n",
    "\n",
    "## renaming the column names\n",
    "df.columns = real_column_names\n",
    "\n",
    "##dropping the first row as it consists of the actual column names\n",
    "df = df.drop(df.index[0])\n",
    "\n",
    "##Droping the first column as it's name is nan and consists of unrequired values\n",
    "df=df.drop(columns=df.columns[0])\n",
    "\n",
    "##we will drop the last column 'Matches' as it does not add any value\n",
    "# df=df.drop(columns=df.columns[-1]).reset_index()\n",
    "\n",
    "# df = df.drop(columns=df.columns[0])\n",
    "\n",
    "df.head()"
   ]
  },
  {
   "cell_type": "code",
   "execution_count": 6,
   "id": "18a0f321",
   "metadata": {},
   "outputs": [
    {
     "data": {
      "text/html": [
       "<div>\n",
       "<style scoped>\n",
       "    .dataframe tbody tr th:only-of-type {\n",
       "        vertical-align: middle;\n",
       "    }\n",
       "\n",
       "    .dataframe tbody tr th {\n",
       "        vertical-align: top;\n",
       "    }\n",
       "\n",
       "    .dataframe thead th {\n",
       "        text-align: right;\n",
       "    }\n",
       "</style>\n",
       "<table border=\"1\" class=\"dataframe\">\n",
       "  <thead>\n",
       "    <tr style=\"text-align: right;\">\n",
       "      <th></th>\n",
       "      <th>Player</th>\n",
       "      <th>Nation</th>\n",
       "      <th>Pos</th>\n",
       "      <th>Age</th>\n",
       "      <th>90s</th>\n",
       "      <th>Cmp</th>\n",
       "      <th>Att</th>\n",
       "      <th>Cmp%</th>\n",
       "      <th>TotDist</th>\n",
       "      <th>PrgDist</th>\n",
       "      <th>...</th>\n",
       "      <th>Cmp%</th>\n",
       "      <th>Ast</th>\n",
       "      <th>xAG</th>\n",
       "      <th>xA</th>\n",
       "      <th>A-xAG</th>\n",
       "      <th>KP</th>\n",
       "      <th>1/3</th>\n",
       "      <th>PPA</th>\n",
       "      <th>CrsPA</th>\n",
       "      <th>PrgP</th>\n",
       "    </tr>\n",
       "  </thead>\n",
       "  <tbody>\n",
       "    <tr>\n",
       "      <th>0</th>\n",
       "      <td>David de Gea</td>\n",
       "      <td>es ESP</td>\n",
       "      <td>GK</td>\n",
       "      <td>31</td>\n",
       "      <td>58.3</td>\n",
       "      <td>1148.0</td>\n",
       "      <td>1581.0</td>\n",
       "      <td>72.6</td>\n",
       "      <td>29543.0</td>\n",
       "      <td>21024.0</td>\n",
       "      <td>...</td>\n",
       "      <td>44.8</td>\n",
       "      <td>0</td>\n",
       "      <td>0.1</td>\n",
       "      <td>0.2</td>\n",
       "      <td>-0.1</td>\n",
       "      <td>1.0</td>\n",
       "      <td>9.0</td>\n",
       "      <td>1.0</td>\n",
       "      <td>0.0</td>\n",
       "      <td>0.0</td>\n",
       "    </tr>\n",
       "    <tr>\n",
       "      <th>1</th>\n",
       "      <td>Bruno Fernandes</td>\n",
       "      <td>pt POR</td>\n",
       "      <td>MF,FW</td>\n",
       "      <td>27</td>\n",
       "      <td>57.3</td>\n",
       "      <td>1919.0</td>\n",
       "      <td>2581.0</td>\n",
       "      <td>74.4</td>\n",
       "      <td>32978.0</td>\n",
       "      <td>11448.0</td>\n",
       "      <td>...</td>\n",
       "      <td>55.6</td>\n",
       "      <td>13</td>\n",
       "      <td>21.7</td>\n",
       "      <td>14.9</td>\n",
       "      <td>-8.7</td>\n",
       "      <td>150.0</td>\n",
       "      <td>201.0</td>\n",
       "      <td>115.0</td>\n",
       "      <td>15.0</td>\n",
       "      <td>327.0</td>\n",
       "    </tr>\n",
       "    <tr>\n",
       "      <th>2</th>\n",
       "      <td>Marcus Rashford</td>\n",
       "      <td>eng ENG</td>\n",
       "      <td>FW</td>\n",
       "      <td>24</td>\n",
       "      <td>47.6</td>\n",
       "      <td>787.0</td>\n",
       "      <td>1020.0</td>\n",
       "      <td>77.2</td>\n",
       "      <td>11143.0</td>\n",
       "      <td>2620.0</td>\n",
       "      <td>...</td>\n",
       "      <td>64.9</td>\n",
       "      <td>9</td>\n",
       "      <td>4.3</td>\n",
       "      <td>3.7</td>\n",
       "      <td>4.7</td>\n",
       "      <td>40.0</td>\n",
       "      <td>45.0</td>\n",
       "      <td>63.0</td>\n",
       "      <td>3.0</td>\n",
       "      <td>105.0</td>\n",
       "    </tr>\n",
       "    <tr>\n",
       "      <th>3</th>\n",
       "      <td>Casemiro</td>\n",
       "      <td>br BRA</td>\n",
       "      <td>MF</td>\n",
       "      <td>30</td>\n",
       "      <td>43.3</td>\n",
       "      <td>1686.0</td>\n",
       "      <td>2166.0</td>\n",
       "      <td>77.8</td>\n",
       "      <td>30359.0</td>\n",
       "      <td>11348.0</td>\n",
       "      <td>...</td>\n",
       "      <td>64.1</td>\n",
       "      <td>6</td>\n",
       "      <td>4.4</td>\n",
       "      <td>4.9</td>\n",
       "      <td>1.6</td>\n",
       "      <td>41.0</td>\n",
       "      <td>214.0</td>\n",
       "      <td>30.0</td>\n",
       "      <td>5.0</td>\n",
       "      <td>232.0</td>\n",
       "    </tr>\n",
       "    <tr>\n",
       "      <th>4</th>\n",
       "      <td>Luke Shaw</td>\n",
       "      <td>eng ENG</td>\n",
       "      <td>DF</td>\n",
       "      <td>27</td>\n",
       "      <td>40.5</td>\n",
       "      <td>2048.0</td>\n",
       "      <td>2469.0</td>\n",
       "      <td>82.9</td>\n",
       "      <td>32145.0</td>\n",
       "      <td>12375.0</td>\n",
       "      <td>...</td>\n",
       "      <td>52.5</td>\n",
       "      <td>6</td>\n",
       "      <td>4.7</td>\n",
       "      <td>4.2</td>\n",
       "      <td>1.3</td>\n",
       "      <td>43.0</td>\n",
       "      <td>195.0</td>\n",
       "      <td>37.0</td>\n",
       "      <td>15.0</td>\n",
       "      <td>172.0</td>\n",
       "    </tr>\n",
       "  </tbody>\n",
       "</table>\n",
       "<p>5 rows × 28 columns</p>\n",
       "</div>"
      ],
      "text/plain": [
       "            Player   Nation    Pos Age   90s     Cmp     Att  Cmp%  TotDist  \\\n",
       "0     David de Gea   es ESP     GK  31  58.3  1148.0  1581.0  72.6  29543.0   \n",
       "1  Bruno Fernandes   pt POR  MF,FW  27  57.3  1919.0  2581.0  74.4  32978.0   \n",
       "2  Marcus Rashford  eng ENG     FW  24  47.6   787.0  1020.0  77.2  11143.0   \n",
       "3         Casemiro   br BRA     MF  30  43.3  1686.0  2166.0  77.8  30359.0   \n",
       "4        Luke Shaw  eng ENG     DF  27  40.5  2048.0  2469.0  82.9  32145.0   \n",
       "\n",
       "   PrgDist  ...  Cmp% Ast   xAG    xA A-xAG     KP    1/3    PPA CrsPA   PrgP  \n",
       "0  21024.0  ...  44.8   0   0.1   0.2  -0.1    1.0    9.0    1.0   0.0    0.0  \n",
       "1  11448.0  ...  55.6  13  21.7  14.9  -8.7  150.0  201.0  115.0  15.0  327.0  \n",
       "2   2620.0  ...  64.9   9   4.3   3.7   4.7   40.0   45.0   63.0   3.0  105.0  \n",
       "3  11348.0  ...  64.1   6   4.4   4.9   1.6   41.0  214.0   30.0   5.0  232.0  \n",
       "4  12375.0  ...  52.5   6   4.7   4.2   1.3   43.0  195.0   37.0  15.0  172.0  \n",
       "\n",
       "[5 rows x 28 columns]"
      ]
     },
     "execution_count": 6,
     "metadata": {},
     "output_type": "execute_result"
    }
   ],
   "source": [
    "## real column names are those in the first row\n",
    "real_column_names = df2.iloc[0].values\n",
    "\n",
    "## renaming the column names\n",
    "df2.columns = real_column_names\n",
    "\n",
    "##dropping the first row as it consists of the actual column names\n",
    "df2 = df2.drop(df2.index[0]).reset_index()\n",
    "\n",
    "##we will drop the last column 'Matches' as it does not add any value\n",
    "df2=df2.drop(columns=df2.columns[-1])\n",
    "\n",
    "##Droping the first column as it's name is nan and consists of unrequired values\n",
    "df2=df2.drop(columns=df2.columns[:2])\n",
    "\n",
    "\n",
    "df2.head()"
   ]
  },
  {
   "cell_type": "markdown",
   "id": "78705855",
   "metadata": {},
   "source": [
    "### Renaming the column names as they are duplicates"
   ]
  },
  {
   "cell_type": "code",
   "execution_count": 7,
   "id": "e32747e3",
   "metadata": {},
   "outputs": [],
   "source": [
    "df2.columns.values[5] = 'TCmp'\n",
    "df2.columns.values[6] = 'TAtt'\n",
    "df2.columns.values[7] = 'TCmp%'\n",
    "df2.columns.values[10] = 'SCmp'\n",
    "df2.columns.values[11] = 'SAtt'\n",
    "df2.columns.values[12] = 'SCmp%'\n",
    "df2.columns.values[13] = 'MCmp'\n",
    "df2.columns.values[14] = 'MAtt'\n",
    "df2.columns.values[15] = 'MCmp%'\n",
    "df2.columns.values[16] = 'LCmp'\n",
    "df2.columns.values[17] = 'LAtt'\n",
    "df2.columns.values[18] = 'LCmp%'"
   ]
  },
  {
   "cell_type": "code",
   "execution_count": 8,
   "id": "07aa178b",
   "metadata": {},
   "outputs": [
    {
     "data": {
      "text/plain": [
       "Index(['Player', 'Nation', 'Pos', 'Age', '90s', 'TCmp', 'TAtt', 'TCmp%',\n",
       "       'TotDist', 'PrgDist', 'SCmp', 'SAtt', 'SCmp%', 'MCmp', 'MAtt', 'MCmp%',\n",
       "       'LCmp', 'LAtt', 'LCmp%', 'Ast', 'xAG', 'xA', 'A-xAG', 'KP', '1/3',\n",
       "       'PPA', 'CrsPA', 'PrgP'],\n",
       "      dtype='object')"
      ]
     },
     "execution_count": 8,
     "metadata": {},
     "output_type": "execute_result"
    }
   ],
   "source": [
    "df2.columns"
   ]
  },
  {
   "cell_type": "code",
   "execution_count": 9,
   "id": "359af04b",
   "metadata": {},
   "outputs": [],
   "source": [
    "## we will convert all the columns except player, nation and pos\n",
    "columns_to_convert = [col for col in df2.columns if col not in ['Player', 'Nation','Pos']]\n",
    "\n",
    "df2[columns_to_convert] = df2[columns_to_convert].astype(float)"
   ]
  },
  {
   "cell_type": "code",
   "execution_count": 10,
   "id": "f2e4551e",
   "metadata": {},
   "outputs": [
    {
     "name": "stdout",
     "output_type": "stream",
     "text": [
      "<class 'pandas.core.frame.DataFrame'>\n",
      "RangeIndex: 30 entries, 0 to 29\n",
      "Data columns (total 28 columns):\n",
      " #   Column   Non-Null Count  Dtype  \n",
      "---  ------   --------------  -----  \n",
      " 0   Player   30 non-null     object \n",
      " 1   Nation   30 non-null     object \n",
      " 2   Pos      30 non-null     object \n",
      " 3   Age      30 non-null     float64\n",
      " 4   90s      30 non-null     float64\n",
      " 5   TCmp     27 non-null     float64\n",
      " 6   TAtt     27 non-null     float64\n",
      " 7   TCmp%    26 non-null     float64\n",
      " 8   TotDist  27 non-null     float64\n",
      " 9   PrgDist  27 non-null     float64\n",
      " 10  SCmp     27 non-null     float64\n",
      " 11  SAtt     27 non-null     float64\n",
      " 12  SCmp%    26 non-null     float64\n",
      " 13  MCmp     27 non-null     float64\n",
      " 14  MAtt     27 non-null     float64\n",
      " 15  MCmp%    26 non-null     float64\n",
      " 16  LCmp     27 non-null     float64\n",
      " 17  LAtt     27 non-null     float64\n",
      " 18  LCmp%    25 non-null     float64\n",
      " 19  Ast      30 non-null     float64\n",
      " 20  xAG      27 non-null     float64\n",
      " 21  xA       27 non-null     float64\n",
      " 22  A-xAG    27 non-null     float64\n",
      " 23  KP       27 non-null     float64\n",
      " 24  1/3      27 non-null     float64\n",
      " 25  PPA      27 non-null     float64\n",
      " 26  CrsPA    27 non-null     float64\n",
      " 27  PrgP     27 non-null     float64\n",
      "dtypes: float64(25), object(3)\n",
      "memory usage: 6.7+ KB\n"
     ]
    }
   ],
   "source": [
    "df2.info()"
   ]
  },
  {
   "cell_type": "markdown",
   "id": "09e95649",
   "metadata": {},
   "source": [
    "### We will initially be working on the passing dataset (df2)"
   ]
  },
  {
   "cell_type": "code",
   "execution_count": 11,
   "id": "f1d6495d",
   "metadata": {},
   "outputs": [
    {
     "data": {
      "text/html": [
       "<div>\n",
       "<style scoped>\n",
       "    .dataframe tbody tr th:only-of-type {\n",
       "        vertical-align: middle;\n",
       "    }\n",
       "\n",
       "    .dataframe tbody tr th {\n",
       "        vertical-align: top;\n",
       "    }\n",
       "\n",
       "    .dataframe thead th {\n",
       "        text-align: right;\n",
       "    }\n",
       "</style>\n",
       "<table border=\"1\" class=\"dataframe\">\n",
       "  <thead>\n",
       "    <tr style=\"text-align: right;\">\n",
       "      <th></th>\n",
       "      <th>Player</th>\n",
       "      <th>Nation</th>\n",
       "      <th>Pos</th>\n",
       "      <th>Age</th>\n",
       "      <th>90s</th>\n",
       "      <th>TCmp</th>\n",
       "      <th>TAtt</th>\n",
       "      <th>TCmp%</th>\n",
       "      <th>TotDist</th>\n",
       "      <th>PrgDist</th>\n",
       "      <th>...</th>\n",
       "      <th>LCmp%</th>\n",
       "      <th>Ast</th>\n",
       "      <th>xAG</th>\n",
       "      <th>xA</th>\n",
       "      <th>A-xAG</th>\n",
       "      <th>KP</th>\n",
       "      <th>1/3</th>\n",
       "      <th>PPA</th>\n",
       "      <th>CrsPA</th>\n",
       "      <th>PrgP</th>\n",
       "    </tr>\n",
       "  </thead>\n",
       "  <tbody>\n",
       "    <tr>\n",
       "      <th>0</th>\n",
       "      <td>David de Gea</td>\n",
       "      <td>es ESP</td>\n",
       "      <td>GK</td>\n",
       "      <td>31.0</td>\n",
       "      <td>58.3</td>\n",
       "      <td>1148.0</td>\n",
       "      <td>1581.0</td>\n",
       "      <td>72.6</td>\n",
       "      <td>29543.0</td>\n",
       "      <td>21024.0</td>\n",
       "      <td>...</td>\n",
       "      <td>44.8</td>\n",
       "      <td>0.0</td>\n",
       "      <td>0.1</td>\n",
       "      <td>0.2</td>\n",
       "      <td>-0.1</td>\n",
       "      <td>1.0</td>\n",
       "      <td>9.0</td>\n",
       "      <td>1.0</td>\n",
       "      <td>0.0</td>\n",
       "      <td>0.0</td>\n",
       "    </tr>\n",
       "    <tr>\n",
       "      <th>1</th>\n",
       "      <td>Bruno Fernandes</td>\n",
       "      <td>pt POR</td>\n",
       "      <td>MF,FW</td>\n",
       "      <td>27.0</td>\n",
       "      <td>57.3</td>\n",
       "      <td>1919.0</td>\n",
       "      <td>2581.0</td>\n",
       "      <td>74.4</td>\n",
       "      <td>32978.0</td>\n",
       "      <td>11448.0</td>\n",
       "      <td>...</td>\n",
       "      <td>55.6</td>\n",
       "      <td>13.0</td>\n",
       "      <td>21.7</td>\n",
       "      <td>14.9</td>\n",
       "      <td>-8.7</td>\n",
       "      <td>150.0</td>\n",
       "      <td>201.0</td>\n",
       "      <td>115.0</td>\n",
       "      <td>15.0</td>\n",
       "      <td>327.0</td>\n",
       "    </tr>\n",
       "    <tr>\n",
       "      <th>2</th>\n",
       "      <td>Marcus Rashford</td>\n",
       "      <td>eng ENG</td>\n",
       "      <td>FW</td>\n",
       "      <td>24.0</td>\n",
       "      <td>47.6</td>\n",
       "      <td>787.0</td>\n",
       "      <td>1020.0</td>\n",
       "      <td>77.2</td>\n",
       "      <td>11143.0</td>\n",
       "      <td>2620.0</td>\n",
       "      <td>...</td>\n",
       "      <td>64.9</td>\n",
       "      <td>9.0</td>\n",
       "      <td>4.3</td>\n",
       "      <td>3.7</td>\n",
       "      <td>4.7</td>\n",
       "      <td>40.0</td>\n",
       "      <td>45.0</td>\n",
       "      <td>63.0</td>\n",
       "      <td>3.0</td>\n",
       "      <td>105.0</td>\n",
       "    </tr>\n",
       "    <tr>\n",
       "      <th>3</th>\n",
       "      <td>Casemiro</td>\n",
       "      <td>br BRA</td>\n",
       "      <td>MF</td>\n",
       "      <td>30.0</td>\n",
       "      <td>43.3</td>\n",
       "      <td>1686.0</td>\n",
       "      <td>2166.0</td>\n",
       "      <td>77.8</td>\n",
       "      <td>30359.0</td>\n",
       "      <td>11348.0</td>\n",
       "      <td>...</td>\n",
       "      <td>64.1</td>\n",
       "      <td>6.0</td>\n",
       "      <td>4.4</td>\n",
       "      <td>4.9</td>\n",
       "      <td>1.6</td>\n",
       "      <td>41.0</td>\n",
       "      <td>214.0</td>\n",
       "      <td>30.0</td>\n",
       "      <td>5.0</td>\n",
       "      <td>232.0</td>\n",
       "    </tr>\n",
       "    <tr>\n",
       "      <th>4</th>\n",
       "      <td>Luke Shaw</td>\n",
       "      <td>eng ENG</td>\n",
       "      <td>DF</td>\n",
       "      <td>27.0</td>\n",
       "      <td>40.5</td>\n",
       "      <td>2048.0</td>\n",
       "      <td>2469.0</td>\n",
       "      <td>82.9</td>\n",
       "      <td>32145.0</td>\n",
       "      <td>12375.0</td>\n",
       "      <td>...</td>\n",
       "      <td>52.5</td>\n",
       "      <td>6.0</td>\n",
       "      <td>4.7</td>\n",
       "      <td>4.2</td>\n",
       "      <td>1.3</td>\n",
       "      <td>43.0</td>\n",
       "      <td>195.0</td>\n",
       "      <td>37.0</td>\n",
       "      <td>15.0</td>\n",
       "      <td>172.0</td>\n",
       "    </tr>\n",
       "    <tr>\n",
       "      <th>5</th>\n",
       "      <td>Lisandro Martínez</td>\n",
       "      <td>ar ARG</td>\n",
       "      <td>DF</td>\n",
       "      <td>24.0</td>\n",
       "      <td>37.9</td>\n",
       "      <td>1888.0</td>\n",
       "      <td>2169.0</td>\n",
       "      <td>87.0</td>\n",
       "      <td>34120.0</td>\n",
       "      <td>12255.0</td>\n",
       "      <td>...</td>\n",
       "      <td>55.2</td>\n",
       "      <td>0.0</td>\n",
       "      <td>0.8</td>\n",
       "      <td>2.3</td>\n",
       "      <td>-0.8</td>\n",
       "      <td>12.0</td>\n",
       "      <td>155.0</td>\n",
       "      <td>11.0</td>\n",
       "      <td>0.0</td>\n",
       "      <td>128.0</td>\n",
       "    </tr>\n",
       "    <tr>\n",
       "      <th>6</th>\n",
       "      <td>Diogo Dalot</td>\n",
       "      <td>pt POR</td>\n",
       "      <td>DF</td>\n",
       "      <td>23.0</td>\n",
       "      <td>36.0</td>\n",
       "      <td>1528.0</td>\n",
       "      <td>1891.0</td>\n",
       "      <td>80.8</td>\n",
       "      <td>27960.0</td>\n",
       "      <td>8472.0</td>\n",
       "      <td>...</td>\n",
       "      <td>59.0</td>\n",
       "      <td>2.0</td>\n",
       "      <td>3.0</td>\n",
       "      <td>2.6</td>\n",
       "      <td>-1.0</td>\n",
       "      <td>41.0</td>\n",
       "      <td>117.0</td>\n",
       "      <td>39.0</td>\n",
       "      <td>14.0</td>\n",
       "      <td>137.0</td>\n",
       "    </tr>\n",
       "    <tr>\n",
       "      <th>7</th>\n",
       "      <td>Antony</td>\n",
       "      <td>br BRA</td>\n",
       "      <td>FW</td>\n",
       "      <td>22.0</td>\n",
       "      <td>34.4</td>\n",
       "      <td>864.0</td>\n",
       "      <td>1091.0</td>\n",
       "      <td>79.2</td>\n",
       "      <td>11444.0</td>\n",
       "      <td>2631.0</td>\n",
       "      <td>...</td>\n",
       "      <td>61.8</td>\n",
       "      <td>3.0</td>\n",
       "      <td>4.4</td>\n",
       "      <td>3.9</td>\n",
       "      <td>-1.4</td>\n",
       "      <td>40.0</td>\n",
       "      <td>42.0</td>\n",
       "      <td>48.0</td>\n",
       "      <td>8.0</td>\n",
       "      <td>102.0</td>\n",
       "    </tr>\n",
       "    <tr>\n",
       "      <th>8</th>\n",
       "      <td>Christian Eriksen</td>\n",
       "      <td>dk DEN</td>\n",
       "      <td>MF</td>\n",
       "      <td>30.0</td>\n",
       "      <td>34.0</td>\n",
       "      <td>1581.0</td>\n",
       "      <td>1952.0</td>\n",
       "      <td>81.0</td>\n",
       "      <td>26250.0</td>\n",
       "      <td>8459.0</td>\n",
       "      <td>...</td>\n",
       "      <td>54.7</td>\n",
       "      <td>10.0</td>\n",
       "      <td>5.7</td>\n",
       "      <td>4.9</td>\n",
       "      <td>4.3</td>\n",
       "      <td>56.0</td>\n",
       "      <td>211.0</td>\n",
       "      <td>37.0</td>\n",
       "      <td>5.0</td>\n",
       "      <td>224.0</td>\n",
       "    </tr>\n",
       "    <tr>\n",
       "      <th>9</th>\n",
       "      <td>Tyrell Malacia</td>\n",
       "      <td>nl NED</td>\n",
       "      <td>DF</td>\n",
       "      <td>22.0</td>\n",
       "      <td>29.9</td>\n",
       "      <td>1132.0</td>\n",
       "      <td>1296.0</td>\n",
       "      <td>87.3</td>\n",
       "      <td>16526.0</td>\n",
       "      <td>4707.0</td>\n",
       "      <td>...</td>\n",
       "      <td>59.6</td>\n",
       "      <td>0.0</td>\n",
       "      <td>1.4</td>\n",
       "      <td>1.6</td>\n",
       "      <td>-1.4</td>\n",
       "      <td>16.0</td>\n",
       "      <td>69.0</td>\n",
       "      <td>20.0</td>\n",
       "      <td>2.0</td>\n",
       "      <td>94.0</td>\n",
       "    </tr>\n",
       "    <tr>\n",
       "      <th>10</th>\n",
       "      <td>Raphaël Varane</td>\n",
       "      <td>fr FRA</td>\n",
       "      <td>DF</td>\n",
       "      <td>29.0</td>\n",
       "      <td>29.6</td>\n",
       "      <td>1174.0</td>\n",
       "      <td>1356.0</td>\n",
       "      <td>86.6</td>\n",
       "      <td>21845.0</td>\n",
       "      <td>6959.0</td>\n",
       "      <td>...</td>\n",
       "      <td>59.2</td>\n",
       "      <td>0.0</td>\n",
       "      <td>0.3</td>\n",
       "      <td>0.7</td>\n",
       "      <td>-0.3</td>\n",
       "      <td>6.0</td>\n",
       "      <td>98.0</td>\n",
       "      <td>4.0</td>\n",
       "      <td>0.0</td>\n",
       "      <td>83.0</td>\n",
       "    </tr>\n",
       "    <tr>\n",
       "      <th>11</th>\n",
       "      <td>Aaron Wan-Bissaka</td>\n",
       "      <td>eng ENG</td>\n",
       "      <td>DF</td>\n",
       "      <td>24.0</td>\n",
       "      <td>28.5</td>\n",
       "      <td>888.0</td>\n",
       "      <td>1064.0</td>\n",
       "      <td>83.5</td>\n",
       "      <td>12257.0</td>\n",
       "      <td>4359.0</td>\n",
       "      <td>...</td>\n",
       "      <td>66.7</td>\n",
       "      <td>1.0</td>\n",
       "      <td>1.5</td>\n",
       "      <td>1.4</td>\n",
       "      <td>-0.5</td>\n",
       "      <td>18.0</td>\n",
       "      <td>62.0</td>\n",
       "      <td>13.0</td>\n",
       "      <td>3.0</td>\n",
       "      <td>72.0</td>\n",
       "    </tr>\n",
       "    <tr>\n",
       "      <th>12</th>\n",
       "      <td>Victor Lindelöf</td>\n",
       "      <td>se SWE</td>\n",
       "      <td>DF</td>\n",
       "      <td>28.0</td>\n",
       "      <td>27.9</td>\n",
       "      <td>1251.0</td>\n",
       "      <td>1337.0</td>\n",
       "      <td>93.6</td>\n",
       "      <td>22111.0</td>\n",
       "      <td>6907.0</td>\n",
       "      <td>...</td>\n",
       "      <td>76.1</td>\n",
       "      <td>0.0</td>\n",
       "      <td>0.1</td>\n",
       "      <td>0.6</td>\n",
       "      <td>-0.1</td>\n",
       "      <td>3.0</td>\n",
       "      <td>75.0</td>\n",
       "      <td>4.0</td>\n",
       "      <td>0.0</td>\n",
       "      <td>72.0</td>\n",
       "    </tr>\n",
       "    <tr>\n",
       "      <th>13</th>\n",
       "      <td>Jadon Sancho</td>\n",
       "      <td>eng ENG</td>\n",
       "      <td>FW,MF</td>\n",
       "      <td>22.0</td>\n",
       "      <td>26.9</td>\n",
       "      <td>836.0</td>\n",
       "      <td>996.0</td>\n",
       "      <td>83.9</td>\n",
       "      <td>10293.0</td>\n",
       "      <td>2227.0</td>\n",
       "      <td>...</td>\n",
       "      <td>61.5</td>\n",
       "      <td>3.0</td>\n",
       "      <td>6.4</td>\n",
       "      <td>5.5</td>\n",
       "      <td>-3.4</td>\n",
       "      <td>60.0</td>\n",
       "      <td>30.0</td>\n",
       "      <td>52.0</td>\n",
       "      <td>1.0</td>\n",
       "      <td>98.0</td>\n",
       "    </tr>\n",
       "    <tr>\n",
       "      <th>14</th>\n",
       "      <td>Fred</td>\n",
       "      <td>br BRA</td>\n",
       "      <td>MF</td>\n",
       "      <td>29.0</td>\n",
       "      <td>25.5</td>\n",
       "      <td>848.0</td>\n",
       "      <td>1056.0</td>\n",
       "      <td>80.3</td>\n",
       "      <td>12872.0</td>\n",
       "      <td>3773.0</td>\n",
       "      <td>...</td>\n",
       "      <td>64.4</td>\n",
       "      <td>5.0</td>\n",
       "      <td>3.2</td>\n",
       "      <td>2.3</td>\n",
       "      <td>1.8</td>\n",
       "      <td>38.0</td>\n",
       "      <td>94.0</td>\n",
       "      <td>15.0</td>\n",
       "      <td>4.0</td>\n",
       "      <td>103.0</td>\n",
       "    </tr>\n",
       "    <tr>\n",
       "      <th>15</th>\n",
       "      <td>Scott McTominay</td>\n",
       "      <td>sct SCO</td>\n",
       "      <td>MF</td>\n",
       "      <td>25.0</td>\n",
       "      <td>19.0</td>\n",
       "      <td>428.0</td>\n",
       "      <td>523.0</td>\n",
       "      <td>81.8</td>\n",
       "      <td>6454.0</td>\n",
       "      <td>1844.0</td>\n",
       "      <td>...</td>\n",
       "      <td>66.7</td>\n",
       "      <td>1.0</td>\n",
       "      <td>0.6</td>\n",
       "      <td>1.1</td>\n",
       "      <td>0.4</td>\n",
       "      <td>8.0</td>\n",
       "      <td>42.0</td>\n",
       "      <td>5.0</td>\n",
       "      <td>1.0</td>\n",
       "      <td>40.0</td>\n",
       "    </tr>\n",
       "    <tr>\n",
       "      <th>16</th>\n",
       "      <td>Wout Weghorst</td>\n",
       "      <td>nl NED</td>\n",
       "      <td>FW,MF</td>\n",
       "      <td>29.0</td>\n",
       "      <td>18.6</td>\n",
       "      <td>194.0</td>\n",
       "      <td>272.0</td>\n",
       "      <td>71.3</td>\n",
       "      <td>2306.0</td>\n",
       "      <td>616.0</td>\n",
       "      <td>...</td>\n",
       "      <td>42.9</td>\n",
       "      <td>3.0</td>\n",
       "      <td>1.8</td>\n",
       "      <td>1.9</td>\n",
       "      <td>1.2</td>\n",
       "      <td>17.0</td>\n",
       "      <td>11.0</td>\n",
       "      <td>4.0</td>\n",
       "      <td>0.0</td>\n",
       "      <td>23.0</td>\n",
       "    </tr>\n",
       "    <tr>\n",
       "      <th>17</th>\n",
       "      <td>Harry Maguire</td>\n",
       "      <td>eng ENG</td>\n",
       "      <td>DF</td>\n",
       "      <td>29.0</td>\n",
       "      <td>17.9</td>\n",
       "      <td>707.0</td>\n",
       "      <td>830.0</td>\n",
       "      <td>85.2</td>\n",
       "      <td>14131.0</td>\n",
       "      <td>4480.0</td>\n",
       "      <td>...</td>\n",
       "      <td>64.4</td>\n",
       "      <td>0.0</td>\n",
       "      <td>0.1</td>\n",
       "      <td>0.2</td>\n",
       "      <td>-0.1</td>\n",
       "      <td>2.0</td>\n",
       "      <td>47.0</td>\n",
       "      <td>0.0</td>\n",
       "      <td>0.0</td>\n",
       "      <td>39.0</td>\n",
       "    </tr>\n",
       "    <tr>\n",
       "      <th>18</th>\n",
       "      <td>Anthony Martial</td>\n",
       "      <td>fr FRA</td>\n",
       "      <td>FW</td>\n",
       "      <td>26.0</td>\n",
       "      <td>16.0</td>\n",
       "      <td>297.0</td>\n",
       "      <td>373.0</td>\n",
       "      <td>79.6</td>\n",
       "      <td>3711.0</td>\n",
       "      <td>1068.0</td>\n",
       "      <td>...</td>\n",
       "      <td>64.3</td>\n",
       "      <td>3.0</td>\n",
       "      <td>2.1</td>\n",
       "      <td>2.0</td>\n",
       "      <td>0.9</td>\n",
       "      <td>14.0</td>\n",
       "      <td>20.0</td>\n",
       "      <td>14.0</td>\n",
       "      <td>0.0</td>\n",
       "      <td>39.0</td>\n",
       "    </tr>\n",
       "    <tr>\n",
       "      <th>19</th>\n",
       "      <td>Alejandro Garnacho</td>\n",
       "      <td>ar ARG</td>\n",
       "      <td>FW,MF</td>\n",
       "      <td>18.0</td>\n",
       "      <td>13.5</td>\n",
       "      <td>211.0</td>\n",
       "      <td>264.0</td>\n",
       "      <td>79.9</td>\n",
       "      <td>2564.0</td>\n",
       "      <td>286.0</td>\n",
       "      <td>...</td>\n",
       "      <td>55.6</td>\n",
       "      <td>4.0</td>\n",
       "      <td>1.1</td>\n",
       "      <td>1.1</td>\n",
       "      <td>2.9</td>\n",
       "      <td>5.0</td>\n",
       "      <td>2.0</td>\n",
       "      <td>4.0</td>\n",
       "      <td>0.0</td>\n",
       "      <td>15.0</td>\n",
       "    </tr>\n",
       "    <tr>\n",
       "      <th>20</th>\n",
       "      <td>Cristiano Ronaldo</td>\n",
       "      <td>pt POR</td>\n",
       "      <td>FW</td>\n",
       "      <td>37.0</td>\n",
       "      <td>11.7</td>\n",
       "      <td>270.0</td>\n",
       "      <td>340.0</td>\n",
       "      <td>79.4</td>\n",
       "      <td>3297.0</td>\n",
       "      <td>575.0</td>\n",
       "      <td>...</td>\n",
       "      <td>57.1</td>\n",
       "      <td>2.0</td>\n",
       "      <td>2.2</td>\n",
       "      <td>0.8</td>\n",
       "      <td>-0.2</td>\n",
       "      <td>12.0</td>\n",
       "      <td>19.0</td>\n",
       "      <td>8.0</td>\n",
       "      <td>0.0</td>\n",
       "      <td>35.0</td>\n",
       "    </tr>\n",
       "    <tr>\n",
       "      <th>21</th>\n",
       "      <td>Marcel Sabitzer</td>\n",
       "      <td>at AUT</td>\n",
       "      <td>MF</td>\n",
       "      <td>28.0</td>\n",
       "      <td>11.6</td>\n",
       "      <td>272.0</td>\n",
       "      <td>364.0</td>\n",
       "      <td>74.7</td>\n",
       "      <td>3972.0</td>\n",
       "      <td>1196.0</td>\n",
       "      <td>...</td>\n",
       "      <td>57.7</td>\n",
       "      <td>1.0</td>\n",
       "      <td>1.1</td>\n",
       "      <td>1.3</td>\n",
       "      <td>-0.1</td>\n",
       "      <td>11.0</td>\n",
       "      <td>34.0</td>\n",
       "      <td>7.0</td>\n",
       "      <td>1.0</td>\n",
       "      <td>45.0</td>\n",
       "    </tr>\n",
       "    <tr>\n",
       "      <th>22</th>\n",
       "      <td>Anthony Elanga</td>\n",
       "      <td>se SWE</td>\n",
       "      <td>FW</td>\n",
       "      <td>20.0</td>\n",
       "      <td>8.0</td>\n",
       "      <td>134.0</td>\n",
       "      <td>185.0</td>\n",
       "      <td>72.4</td>\n",
       "      <td>1642.0</td>\n",
       "      <td>408.0</td>\n",
       "      <td>...</td>\n",
       "      <td>100.0</td>\n",
       "      <td>2.0</td>\n",
       "      <td>1.0</td>\n",
       "      <td>1.2</td>\n",
       "      <td>1.0</td>\n",
       "      <td>8.0</td>\n",
       "      <td>3.0</td>\n",
       "      <td>4.0</td>\n",
       "      <td>0.0</td>\n",
       "      <td>10.0</td>\n",
       "    </tr>\n",
       "    <tr>\n",
       "      <th>23</th>\n",
       "      <td>Donny van de Beek</td>\n",
       "      <td>nl NED</td>\n",
       "      <td>MF</td>\n",
       "      <td>25.0</td>\n",
       "      <td>3.3</td>\n",
       "      <td>65.0</td>\n",
       "      <td>86.0</td>\n",
       "      <td>75.6</td>\n",
       "      <td>759.0</td>\n",
       "      <td>200.0</td>\n",
       "      <td>...</td>\n",
       "      <td>66.7</td>\n",
       "      <td>0.0</td>\n",
       "      <td>0.1</td>\n",
       "      <td>0.2</td>\n",
       "      <td>-0.1</td>\n",
       "      <td>3.0</td>\n",
       "      <td>2.0</td>\n",
       "      <td>4.0</td>\n",
       "      <td>0.0</td>\n",
       "      <td>8.0</td>\n",
       "    </tr>\n",
       "    <tr>\n",
       "      <th>24</th>\n",
       "      <td>Facundo Pellistri</td>\n",
       "      <td>uy URU</td>\n",
       "      <td>FW,MF</td>\n",
       "      <td>20.0</td>\n",
       "      <td>2.5</td>\n",
       "      <td>49.0</td>\n",
       "      <td>60.0</td>\n",
       "      <td>81.7</td>\n",
       "      <td>681.0</td>\n",
       "      <td>124.0</td>\n",
       "      <td>...</td>\n",
       "      <td>100.0</td>\n",
       "      <td>1.0</td>\n",
       "      <td>0.2</td>\n",
       "      <td>0.3</td>\n",
       "      <td>0.8</td>\n",
       "      <td>1.0</td>\n",
       "      <td>1.0</td>\n",
       "      <td>2.0</td>\n",
       "      <td>0.0</td>\n",
       "      <td>4.0</td>\n",
       "    </tr>\n",
       "    <tr>\n",
       "      <th>25</th>\n",
       "      <td>Martin Dúbravka</td>\n",
       "      <td>sk SVK</td>\n",
       "      <td>GK</td>\n",
       "      <td>33.0</td>\n",
       "      <td>2.0</td>\n",
       "      <td>NaN</td>\n",
       "      <td>NaN</td>\n",
       "      <td>NaN</td>\n",
       "      <td>NaN</td>\n",
       "      <td>NaN</td>\n",
       "      <td>...</td>\n",
       "      <td>NaN</td>\n",
       "      <td>0.0</td>\n",
       "      <td>NaN</td>\n",
       "      <td>NaN</td>\n",
       "      <td>NaN</td>\n",
       "      <td>NaN</td>\n",
       "      <td>NaN</td>\n",
       "      <td>NaN</td>\n",
       "      <td>NaN</td>\n",
       "      <td>NaN</td>\n",
       "    </tr>\n",
       "    <tr>\n",
       "      <th>26</th>\n",
       "      <td>Tom Heaton</td>\n",
       "      <td>eng ENG</td>\n",
       "      <td>GK</td>\n",
       "      <td>36.0</td>\n",
       "      <td>2.0</td>\n",
       "      <td>NaN</td>\n",
       "      <td>NaN</td>\n",
       "      <td>NaN</td>\n",
       "      <td>NaN</td>\n",
       "      <td>NaN</td>\n",
       "      <td>...</td>\n",
       "      <td>NaN</td>\n",
       "      <td>0.0</td>\n",
       "      <td>NaN</td>\n",
       "      <td>NaN</td>\n",
       "      <td>NaN</td>\n",
       "      <td>NaN</td>\n",
       "      <td>NaN</td>\n",
       "      <td>NaN</td>\n",
       "      <td>NaN</td>\n",
       "      <td>NaN</td>\n",
       "    </tr>\n",
       "    <tr>\n",
       "      <th>27</th>\n",
       "      <td>Kobbie Mainoo</td>\n",
       "      <td>eng ENG</td>\n",
       "      <td>MF</td>\n",
       "      <td>17.0</td>\n",
       "      <td>1.0</td>\n",
       "      <td>7.0</td>\n",
       "      <td>8.0</td>\n",
       "      <td>87.5</td>\n",
       "      <td>83.0</td>\n",
       "      <td>31.0</td>\n",
       "      <td>...</td>\n",
       "      <td>NaN</td>\n",
       "      <td>0.0</td>\n",
       "      <td>0.0</td>\n",
       "      <td>0.1</td>\n",
       "      <td>0.0</td>\n",
       "      <td>0.0</td>\n",
       "      <td>1.0</td>\n",
       "      <td>1.0</td>\n",
       "      <td>0.0</td>\n",
       "      <td>1.0</td>\n",
       "    </tr>\n",
       "    <tr>\n",
       "      <th>28</th>\n",
       "      <td>Charlie McNeill</td>\n",
       "      <td>eng ENG</td>\n",
       "      <td>DF</td>\n",
       "      <td>18.0</td>\n",
       "      <td>0.1</td>\n",
       "      <td>0.0</td>\n",
       "      <td>0.0</td>\n",
       "      <td>NaN</td>\n",
       "      <td>0.0</td>\n",
       "      <td>0.0</td>\n",
       "      <td>...</td>\n",
       "      <td>NaN</td>\n",
       "      <td>0.0</td>\n",
       "      <td>0.0</td>\n",
       "      <td>0.0</td>\n",
       "      <td>0.0</td>\n",
       "      <td>0.0</td>\n",
       "      <td>0.0</td>\n",
       "      <td>0.0</td>\n",
       "      <td>0.0</td>\n",
       "      <td>0.0</td>\n",
       "    </tr>\n",
       "    <tr>\n",
       "      <th>29</th>\n",
       "      <td>Brandon Williams</td>\n",
       "      <td>eng ENG</td>\n",
       "      <td>DF</td>\n",
       "      <td>21.0</td>\n",
       "      <td>0.1</td>\n",
       "      <td>NaN</td>\n",
       "      <td>NaN</td>\n",
       "      <td>NaN</td>\n",
       "      <td>NaN</td>\n",
       "      <td>NaN</td>\n",
       "      <td>...</td>\n",
       "      <td>NaN</td>\n",
       "      <td>0.0</td>\n",
       "      <td>NaN</td>\n",
       "      <td>NaN</td>\n",
       "      <td>NaN</td>\n",
       "      <td>NaN</td>\n",
       "      <td>NaN</td>\n",
       "      <td>NaN</td>\n",
       "      <td>NaN</td>\n",
       "      <td>NaN</td>\n",
       "    </tr>\n",
       "  </tbody>\n",
       "</table>\n",
       "<p>30 rows × 28 columns</p>\n",
       "</div>"
      ],
      "text/plain": [
       "                Player   Nation    Pos   Age   90s    TCmp    TAtt  TCmp%  \\\n",
       "0         David de Gea   es ESP     GK  31.0  58.3  1148.0  1581.0   72.6   \n",
       "1      Bruno Fernandes   pt POR  MF,FW  27.0  57.3  1919.0  2581.0   74.4   \n",
       "2      Marcus Rashford  eng ENG     FW  24.0  47.6   787.0  1020.0   77.2   \n",
       "3             Casemiro   br BRA     MF  30.0  43.3  1686.0  2166.0   77.8   \n",
       "4            Luke Shaw  eng ENG     DF  27.0  40.5  2048.0  2469.0   82.9   \n",
       "5    Lisandro Martínez   ar ARG     DF  24.0  37.9  1888.0  2169.0   87.0   \n",
       "6          Diogo Dalot   pt POR     DF  23.0  36.0  1528.0  1891.0   80.8   \n",
       "7               Antony   br BRA     FW  22.0  34.4   864.0  1091.0   79.2   \n",
       "8    Christian Eriksen   dk DEN     MF  30.0  34.0  1581.0  1952.0   81.0   \n",
       "9       Tyrell Malacia   nl NED     DF  22.0  29.9  1132.0  1296.0   87.3   \n",
       "10      Raphaël Varane   fr FRA     DF  29.0  29.6  1174.0  1356.0   86.6   \n",
       "11   Aaron Wan-Bissaka  eng ENG     DF  24.0  28.5   888.0  1064.0   83.5   \n",
       "12     Victor Lindelöf   se SWE     DF  28.0  27.9  1251.0  1337.0   93.6   \n",
       "13        Jadon Sancho  eng ENG  FW,MF  22.0  26.9   836.0   996.0   83.9   \n",
       "14                Fred   br BRA     MF  29.0  25.5   848.0  1056.0   80.3   \n",
       "15     Scott McTominay  sct SCO     MF  25.0  19.0   428.0   523.0   81.8   \n",
       "16       Wout Weghorst   nl NED  FW,MF  29.0  18.6   194.0   272.0   71.3   \n",
       "17       Harry Maguire  eng ENG     DF  29.0  17.9   707.0   830.0   85.2   \n",
       "18     Anthony Martial   fr FRA     FW  26.0  16.0   297.0   373.0   79.6   \n",
       "19  Alejandro Garnacho   ar ARG  FW,MF  18.0  13.5   211.0   264.0   79.9   \n",
       "20   Cristiano Ronaldo   pt POR     FW  37.0  11.7   270.0   340.0   79.4   \n",
       "21     Marcel Sabitzer   at AUT     MF  28.0  11.6   272.0   364.0   74.7   \n",
       "22      Anthony Elanga   se SWE     FW  20.0   8.0   134.0   185.0   72.4   \n",
       "23   Donny van de Beek   nl NED     MF  25.0   3.3    65.0    86.0   75.6   \n",
       "24   Facundo Pellistri   uy URU  FW,MF  20.0   2.5    49.0    60.0   81.7   \n",
       "25     Martin Dúbravka   sk SVK     GK  33.0   2.0     NaN     NaN    NaN   \n",
       "26          Tom Heaton  eng ENG     GK  36.0   2.0     NaN     NaN    NaN   \n",
       "27       Kobbie Mainoo  eng ENG     MF  17.0   1.0     7.0     8.0   87.5   \n",
       "28     Charlie McNeill  eng ENG     DF  18.0   0.1     0.0     0.0    NaN   \n",
       "29    Brandon Williams  eng ENG     DF  21.0   0.1     NaN     NaN    NaN   \n",
       "\n",
       "    TotDist  PrgDist  ...  LCmp%   Ast   xAG    xA  A-xAG     KP    1/3  \\\n",
       "0   29543.0  21024.0  ...   44.8   0.0   0.1   0.2   -0.1    1.0    9.0   \n",
       "1   32978.0  11448.0  ...   55.6  13.0  21.7  14.9   -8.7  150.0  201.0   \n",
       "2   11143.0   2620.0  ...   64.9   9.0   4.3   3.7    4.7   40.0   45.0   \n",
       "3   30359.0  11348.0  ...   64.1   6.0   4.4   4.9    1.6   41.0  214.0   \n",
       "4   32145.0  12375.0  ...   52.5   6.0   4.7   4.2    1.3   43.0  195.0   \n",
       "5   34120.0  12255.0  ...   55.2   0.0   0.8   2.3   -0.8   12.0  155.0   \n",
       "6   27960.0   8472.0  ...   59.0   2.0   3.0   2.6   -1.0   41.0  117.0   \n",
       "7   11444.0   2631.0  ...   61.8   3.0   4.4   3.9   -1.4   40.0   42.0   \n",
       "8   26250.0   8459.0  ...   54.7  10.0   5.7   4.9    4.3   56.0  211.0   \n",
       "9   16526.0   4707.0  ...   59.6   0.0   1.4   1.6   -1.4   16.0   69.0   \n",
       "10  21845.0   6959.0  ...   59.2   0.0   0.3   0.7   -0.3    6.0   98.0   \n",
       "11  12257.0   4359.0  ...   66.7   1.0   1.5   1.4   -0.5   18.0   62.0   \n",
       "12  22111.0   6907.0  ...   76.1   0.0   0.1   0.6   -0.1    3.0   75.0   \n",
       "13  10293.0   2227.0  ...   61.5   3.0   6.4   5.5   -3.4   60.0   30.0   \n",
       "14  12872.0   3773.0  ...   64.4   5.0   3.2   2.3    1.8   38.0   94.0   \n",
       "15   6454.0   1844.0  ...   66.7   1.0   0.6   1.1    0.4    8.0   42.0   \n",
       "16   2306.0    616.0  ...   42.9   3.0   1.8   1.9    1.2   17.0   11.0   \n",
       "17  14131.0   4480.0  ...   64.4   0.0   0.1   0.2   -0.1    2.0   47.0   \n",
       "18   3711.0   1068.0  ...   64.3   3.0   2.1   2.0    0.9   14.0   20.0   \n",
       "19   2564.0    286.0  ...   55.6   4.0   1.1   1.1    2.9    5.0    2.0   \n",
       "20   3297.0    575.0  ...   57.1   2.0   2.2   0.8   -0.2   12.0   19.0   \n",
       "21   3972.0   1196.0  ...   57.7   1.0   1.1   1.3   -0.1   11.0   34.0   \n",
       "22   1642.0    408.0  ...  100.0   2.0   1.0   1.2    1.0    8.0    3.0   \n",
       "23    759.0    200.0  ...   66.7   0.0   0.1   0.2   -0.1    3.0    2.0   \n",
       "24    681.0    124.0  ...  100.0   1.0   0.2   0.3    0.8    1.0    1.0   \n",
       "25      NaN      NaN  ...    NaN   0.0   NaN   NaN    NaN    NaN    NaN   \n",
       "26      NaN      NaN  ...    NaN   0.0   NaN   NaN    NaN    NaN    NaN   \n",
       "27     83.0     31.0  ...    NaN   0.0   0.0   0.1    0.0    0.0    1.0   \n",
       "28      0.0      0.0  ...    NaN   0.0   0.0   0.0    0.0    0.0    0.0   \n",
       "29      NaN      NaN  ...    NaN   0.0   NaN   NaN    NaN    NaN    NaN   \n",
       "\n",
       "      PPA  CrsPA   PrgP  \n",
       "0     1.0    0.0    0.0  \n",
       "1   115.0   15.0  327.0  \n",
       "2    63.0    3.0  105.0  \n",
       "3    30.0    5.0  232.0  \n",
       "4    37.0   15.0  172.0  \n",
       "5    11.0    0.0  128.0  \n",
       "6    39.0   14.0  137.0  \n",
       "7    48.0    8.0  102.0  \n",
       "8    37.0    5.0  224.0  \n",
       "9    20.0    2.0   94.0  \n",
       "10    4.0    0.0   83.0  \n",
       "11   13.0    3.0   72.0  \n",
       "12    4.0    0.0   72.0  \n",
       "13   52.0    1.0   98.0  \n",
       "14   15.0    4.0  103.0  \n",
       "15    5.0    1.0   40.0  \n",
       "16    4.0    0.0   23.0  \n",
       "17    0.0    0.0   39.0  \n",
       "18   14.0    0.0   39.0  \n",
       "19    4.0    0.0   15.0  \n",
       "20    8.0    0.0   35.0  \n",
       "21    7.0    1.0   45.0  \n",
       "22    4.0    0.0   10.0  \n",
       "23    4.0    0.0    8.0  \n",
       "24    2.0    0.0    4.0  \n",
       "25    NaN    NaN    NaN  \n",
       "26    NaN    NaN    NaN  \n",
       "27    1.0    0.0    1.0  \n",
       "28    0.0    0.0    0.0  \n",
       "29    NaN    NaN    NaN  \n",
       "\n",
       "[30 rows x 28 columns]"
      ]
     },
     "execution_count": 11,
     "metadata": {},
     "output_type": "execute_result"
    }
   ],
   "source": [
    "df2"
   ]
  },
  {
   "cell_type": "markdown",
   "id": "3af66d89",
   "metadata": {},
   "source": [
    "### Distribution of the total passes"
   ]
  },
  {
   "cell_type": "code",
   "execution_count": 14,
   "id": "08c789ad",
   "metadata": {},
   "outputs": [
    {
     "data": {
      "application/vnd.plotly.v1+json": {
       "config": {
        "plotlyServerURL": "https://plot.ly"
       },
       "data": [
        {
         "domain": {
          "x": [
           0,
           1
          ],
          "y": [
           0,
           1
          ]
         },
         "hovertemplate": "Player=%{label}<br>TAtt=%{value}<extra></extra>",
         "labels": [
          "David de Gea",
          "Bruno Fernandes",
          "Marcus Rashford",
          "Casemiro",
          "Luke Shaw",
          "Lisandro Martínez",
          "Diogo Dalot",
          "Antony",
          "Christian Eriksen",
          "Tyrell Malacia",
          "Raphaël Varane",
          "Aaron Wan-Bissaka",
          "Victor Lindelöf",
          "Jadon Sancho",
          "Fred",
          "Scott McTominay",
          "Wout Weghorst",
          "Harry Maguire",
          "Anthony Martial",
          "Alejandro Garnacho",
          "Cristiano Ronaldo",
          "Marcel Sabitzer",
          "Anthony Elanga",
          "Donny van de Beek",
          "Facundo Pellistri",
          "Martin Dúbravka",
          "Tom Heaton",
          "Kobbie Mainoo",
          "Charlie McNeill",
          "Brandon Williams"
         ],
         "legendgroup": "",
         "name": "",
         "showlegend": true,
         "type": "pie",
         "values": [
          1581,
          2581,
          1020,
          2166,
          2469,
          2169,
          1891,
          1091,
          1952,
          1296,
          1356,
          1064,
          1337,
          996,
          1056,
          523,
          272,
          830,
          373,
          264,
          340,
          364,
          185,
          86,
          60,
          null,
          null,
          8,
          0,
          null
         ]
        }
       ],
       "layout": {
        "font": {
         "color": "white"
        },
        "legend": {
         "tracegroupgap": 0
        },
        "paper_bgcolor": "black",
        "plot_bgcolor": "black",
        "template": {
         "data": {
          "bar": [
           {
            "error_x": {
             "color": "#2a3f5f"
            },
            "error_y": {
             "color": "#2a3f5f"
            },
            "marker": {
             "line": {
              "color": "#E5ECF6",
              "width": 0.5
             },
             "pattern": {
              "fillmode": "overlay",
              "size": 10,
              "solidity": 0.2
             }
            },
            "type": "bar"
           }
          ],
          "barpolar": [
           {
            "marker": {
             "line": {
              "color": "#E5ECF6",
              "width": 0.5
             },
             "pattern": {
              "fillmode": "overlay",
              "size": 10,
              "solidity": 0.2
             }
            },
            "type": "barpolar"
           }
          ],
          "carpet": [
           {
            "aaxis": {
             "endlinecolor": "#2a3f5f",
             "gridcolor": "white",
             "linecolor": "white",
             "minorgridcolor": "white",
             "startlinecolor": "#2a3f5f"
            },
            "baxis": {
             "endlinecolor": "#2a3f5f",
             "gridcolor": "white",
             "linecolor": "white",
             "minorgridcolor": "white",
             "startlinecolor": "#2a3f5f"
            },
            "type": "carpet"
           }
          ],
          "choropleth": [
           {
            "colorbar": {
             "outlinewidth": 0,
             "ticks": ""
            },
            "type": "choropleth"
           }
          ],
          "contour": [
           {
            "colorbar": {
             "outlinewidth": 0,
             "ticks": ""
            },
            "colorscale": [
             [
              0,
              "#0d0887"
             ],
             [
              0.1111111111111111,
              "#46039f"
             ],
             [
              0.2222222222222222,
              "#7201a8"
             ],
             [
              0.3333333333333333,
              "#9c179e"
             ],
             [
              0.4444444444444444,
              "#bd3786"
             ],
             [
              0.5555555555555556,
              "#d8576b"
             ],
             [
              0.6666666666666666,
              "#ed7953"
             ],
             [
              0.7777777777777778,
              "#fb9f3a"
             ],
             [
              0.8888888888888888,
              "#fdca26"
             ],
             [
              1,
              "#f0f921"
             ]
            ],
            "type": "contour"
           }
          ],
          "contourcarpet": [
           {
            "colorbar": {
             "outlinewidth": 0,
             "ticks": ""
            },
            "type": "contourcarpet"
           }
          ],
          "heatmap": [
           {
            "colorbar": {
             "outlinewidth": 0,
             "ticks": ""
            },
            "colorscale": [
             [
              0,
              "#0d0887"
             ],
             [
              0.1111111111111111,
              "#46039f"
             ],
             [
              0.2222222222222222,
              "#7201a8"
             ],
             [
              0.3333333333333333,
              "#9c179e"
             ],
             [
              0.4444444444444444,
              "#bd3786"
             ],
             [
              0.5555555555555556,
              "#d8576b"
             ],
             [
              0.6666666666666666,
              "#ed7953"
             ],
             [
              0.7777777777777778,
              "#fb9f3a"
             ],
             [
              0.8888888888888888,
              "#fdca26"
             ],
             [
              1,
              "#f0f921"
             ]
            ],
            "type": "heatmap"
           }
          ],
          "heatmapgl": [
           {
            "colorbar": {
             "outlinewidth": 0,
             "ticks": ""
            },
            "colorscale": [
             [
              0,
              "#0d0887"
             ],
             [
              0.1111111111111111,
              "#46039f"
             ],
             [
              0.2222222222222222,
              "#7201a8"
             ],
             [
              0.3333333333333333,
              "#9c179e"
             ],
             [
              0.4444444444444444,
              "#bd3786"
             ],
             [
              0.5555555555555556,
              "#d8576b"
             ],
             [
              0.6666666666666666,
              "#ed7953"
             ],
             [
              0.7777777777777778,
              "#fb9f3a"
             ],
             [
              0.8888888888888888,
              "#fdca26"
             ],
             [
              1,
              "#f0f921"
             ]
            ],
            "type": "heatmapgl"
           }
          ],
          "histogram": [
           {
            "marker": {
             "pattern": {
              "fillmode": "overlay",
              "size": 10,
              "solidity": 0.2
             }
            },
            "type": "histogram"
           }
          ],
          "histogram2d": [
           {
            "colorbar": {
             "outlinewidth": 0,
             "ticks": ""
            },
            "colorscale": [
             [
              0,
              "#0d0887"
             ],
             [
              0.1111111111111111,
              "#46039f"
             ],
             [
              0.2222222222222222,
              "#7201a8"
             ],
             [
              0.3333333333333333,
              "#9c179e"
             ],
             [
              0.4444444444444444,
              "#bd3786"
             ],
             [
              0.5555555555555556,
              "#d8576b"
             ],
             [
              0.6666666666666666,
              "#ed7953"
             ],
             [
              0.7777777777777778,
              "#fb9f3a"
             ],
             [
              0.8888888888888888,
              "#fdca26"
             ],
             [
              1,
              "#f0f921"
             ]
            ],
            "type": "histogram2d"
           }
          ],
          "histogram2dcontour": [
           {
            "colorbar": {
             "outlinewidth": 0,
             "ticks": ""
            },
            "colorscale": [
             [
              0,
              "#0d0887"
             ],
             [
              0.1111111111111111,
              "#46039f"
             ],
             [
              0.2222222222222222,
              "#7201a8"
             ],
             [
              0.3333333333333333,
              "#9c179e"
             ],
             [
              0.4444444444444444,
              "#bd3786"
             ],
             [
              0.5555555555555556,
              "#d8576b"
             ],
             [
              0.6666666666666666,
              "#ed7953"
             ],
             [
              0.7777777777777778,
              "#fb9f3a"
             ],
             [
              0.8888888888888888,
              "#fdca26"
             ],
             [
              1,
              "#f0f921"
             ]
            ],
            "type": "histogram2dcontour"
           }
          ],
          "mesh3d": [
           {
            "colorbar": {
             "outlinewidth": 0,
             "ticks": ""
            },
            "type": "mesh3d"
           }
          ],
          "parcoords": [
           {
            "line": {
             "colorbar": {
              "outlinewidth": 0,
              "ticks": ""
             }
            },
            "type": "parcoords"
           }
          ],
          "pie": [
           {
            "automargin": true,
            "type": "pie"
           }
          ],
          "scatter": [
           {
            "fillpattern": {
             "fillmode": "overlay",
             "size": 10,
             "solidity": 0.2
            },
            "type": "scatter"
           }
          ],
          "scatter3d": [
           {
            "line": {
             "colorbar": {
              "outlinewidth": 0,
              "ticks": ""
             }
            },
            "marker": {
             "colorbar": {
              "outlinewidth": 0,
              "ticks": ""
             }
            },
            "type": "scatter3d"
           }
          ],
          "scattercarpet": [
           {
            "marker": {
             "colorbar": {
              "outlinewidth": 0,
              "ticks": ""
             }
            },
            "type": "scattercarpet"
           }
          ],
          "scattergeo": [
           {
            "marker": {
             "colorbar": {
              "outlinewidth": 0,
              "ticks": ""
             }
            },
            "type": "scattergeo"
           }
          ],
          "scattergl": [
           {
            "marker": {
             "colorbar": {
              "outlinewidth": 0,
              "ticks": ""
             }
            },
            "type": "scattergl"
           }
          ],
          "scattermapbox": [
           {
            "marker": {
             "colorbar": {
              "outlinewidth": 0,
              "ticks": ""
             }
            },
            "type": "scattermapbox"
           }
          ],
          "scatterpolar": [
           {
            "marker": {
             "colorbar": {
              "outlinewidth": 0,
              "ticks": ""
             }
            },
            "type": "scatterpolar"
           }
          ],
          "scatterpolargl": [
           {
            "marker": {
             "colorbar": {
              "outlinewidth": 0,
              "ticks": ""
             }
            },
            "type": "scatterpolargl"
           }
          ],
          "scatterternary": [
           {
            "marker": {
             "colorbar": {
              "outlinewidth": 0,
              "ticks": ""
             }
            },
            "type": "scatterternary"
           }
          ],
          "surface": [
           {
            "colorbar": {
             "outlinewidth": 0,
             "ticks": ""
            },
            "colorscale": [
             [
              0,
              "#0d0887"
             ],
             [
              0.1111111111111111,
              "#46039f"
             ],
             [
              0.2222222222222222,
              "#7201a8"
             ],
             [
              0.3333333333333333,
              "#9c179e"
             ],
             [
              0.4444444444444444,
              "#bd3786"
             ],
             [
              0.5555555555555556,
              "#d8576b"
             ],
             [
              0.6666666666666666,
              "#ed7953"
             ],
             [
              0.7777777777777778,
              "#fb9f3a"
             ],
             [
              0.8888888888888888,
              "#fdca26"
             ],
             [
              1,
              "#f0f921"
             ]
            ],
            "type": "surface"
           }
          ],
          "table": [
           {
            "cells": {
             "fill": {
              "color": "#EBF0F8"
             },
             "line": {
              "color": "white"
             }
            },
            "header": {
             "fill": {
              "color": "#C8D4E3"
             },
             "line": {
              "color": "white"
             }
            },
            "type": "table"
           }
          ]
         },
         "layout": {
          "annotationdefaults": {
           "arrowcolor": "#2a3f5f",
           "arrowhead": 0,
           "arrowwidth": 1
          },
          "autotypenumbers": "strict",
          "coloraxis": {
           "colorbar": {
            "outlinewidth": 0,
            "ticks": ""
           }
          },
          "colorscale": {
           "diverging": [
            [
             0,
             "#8e0152"
            ],
            [
             0.1,
             "#c51b7d"
            ],
            [
             0.2,
             "#de77ae"
            ],
            [
             0.3,
             "#f1b6da"
            ],
            [
             0.4,
             "#fde0ef"
            ],
            [
             0.5,
             "#f7f7f7"
            ],
            [
             0.6,
             "#e6f5d0"
            ],
            [
             0.7,
             "#b8e186"
            ],
            [
             0.8,
             "#7fbc41"
            ],
            [
             0.9,
             "#4d9221"
            ],
            [
             1,
             "#276419"
            ]
           ],
           "sequential": [
            [
             0,
             "#0d0887"
            ],
            [
             0.1111111111111111,
             "#46039f"
            ],
            [
             0.2222222222222222,
             "#7201a8"
            ],
            [
             0.3333333333333333,
             "#9c179e"
            ],
            [
             0.4444444444444444,
             "#bd3786"
            ],
            [
             0.5555555555555556,
             "#d8576b"
            ],
            [
             0.6666666666666666,
             "#ed7953"
            ],
            [
             0.7777777777777778,
             "#fb9f3a"
            ],
            [
             0.8888888888888888,
             "#fdca26"
            ],
            [
             1,
             "#f0f921"
            ]
           ],
           "sequentialminus": [
            [
             0,
             "#0d0887"
            ],
            [
             0.1111111111111111,
             "#46039f"
            ],
            [
             0.2222222222222222,
             "#7201a8"
            ],
            [
             0.3333333333333333,
             "#9c179e"
            ],
            [
             0.4444444444444444,
             "#bd3786"
            ],
            [
             0.5555555555555556,
             "#d8576b"
            ],
            [
             0.6666666666666666,
             "#ed7953"
            ],
            [
             0.7777777777777778,
             "#fb9f3a"
            ],
            [
             0.8888888888888888,
             "#fdca26"
            ],
            [
             1,
             "#f0f921"
            ]
           ]
          },
          "colorway": [
           "#636efa",
           "#EF553B",
           "#00cc96",
           "#ab63fa",
           "#FFA15A",
           "#19d3f3",
           "#FF6692",
           "#B6E880",
           "#FF97FF",
           "#FECB52"
          ],
          "font": {
           "color": "#2a3f5f"
          },
          "geo": {
           "bgcolor": "white",
           "lakecolor": "white",
           "landcolor": "#E5ECF6",
           "showlakes": true,
           "showland": true,
           "subunitcolor": "white"
          },
          "hoverlabel": {
           "align": "left"
          },
          "hovermode": "closest",
          "mapbox": {
           "style": "light"
          },
          "paper_bgcolor": "white",
          "plot_bgcolor": "#E5ECF6",
          "polar": {
           "angularaxis": {
            "gridcolor": "white",
            "linecolor": "white",
            "ticks": ""
           },
           "bgcolor": "#E5ECF6",
           "radialaxis": {
            "gridcolor": "white",
            "linecolor": "white",
            "ticks": ""
           }
          },
          "scene": {
           "xaxis": {
            "backgroundcolor": "#E5ECF6",
            "gridcolor": "white",
            "gridwidth": 2,
            "linecolor": "white",
            "showbackground": true,
            "ticks": "",
            "zerolinecolor": "white"
           },
           "yaxis": {
            "backgroundcolor": "#E5ECF6",
            "gridcolor": "white",
            "gridwidth": 2,
            "linecolor": "white",
            "showbackground": true,
            "ticks": "",
            "zerolinecolor": "white"
           },
           "zaxis": {
            "backgroundcolor": "#E5ECF6",
            "gridcolor": "white",
            "gridwidth": 2,
            "linecolor": "white",
            "showbackground": true,
            "ticks": "",
            "zerolinecolor": "white"
           }
          },
          "shapedefaults": {
           "line": {
            "color": "#2a3f5f"
           }
          },
          "ternary": {
           "aaxis": {
            "gridcolor": "white",
            "linecolor": "white",
            "ticks": ""
           },
           "baxis": {
            "gridcolor": "white",
            "linecolor": "white",
            "ticks": ""
           },
           "bgcolor": "#E5ECF6",
           "caxis": {
            "gridcolor": "white",
            "linecolor": "white",
            "ticks": ""
           }
          },
          "title": {
           "x": 0.05
          },
          "xaxis": {
           "automargin": true,
           "gridcolor": "white",
           "linecolor": "white",
           "ticks": "",
           "title": {
            "standoff": 15
           },
           "zerolinecolor": "white",
           "zerolinewidth": 2
          },
          "yaxis": {
           "automargin": true,
           "gridcolor": "white",
           "linecolor": "white",
           "ticks": "",
           "title": {
            "standoff": 15
           },
           "zerolinecolor": "white",
           "zerolinewidth": 2
          }
         }
        },
        "title": {
         "text": "Passes Attempted Distribution by Players"
        }
       }
      },
      "text/html": [
       "<div>                            <div id=\"609bf697-1d49-4d74-8a45-444455f01995\" class=\"plotly-graph-div\" style=\"height:525px; width:100%;\"></div>            <script type=\"text/javascript\">                require([\"plotly\"], function(Plotly) {                    window.PLOTLYENV=window.PLOTLYENV || {};                                    if (document.getElementById(\"609bf697-1d49-4d74-8a45-444455f01995\")) {                    Plotly.newPlot(                        \"609bf697-1d49-4d74-8a45-444455f01995\",                        [{\"domain\":{\"x\":[0.0,1.0],\"y\":[0.0,1.0]},\"hovertemplate\":\"Player=%{label}<br>TAtt=%{value}<extra></extra>\",\"labels\":[\"David de Gea\",\"Bruno Fernandes\",\"Marcus Rashford\",\"Casemiro\",\"Luke Shaw\",\"Lisandro Mart\\u00ednez\",\"Diogo Dalot\",\"Antony\",\"Christian Eriksen\",\"Tyrell Malacia\",\"Rapha\\u00ebl Varane\",\"Aaron Wan-Bissaka\",\"Victor Lindel\\u00f6f\",\"Jadon Sancho\",\"Fred\",\"Scott McTominay\",\"Wout Weghorst\",\"Harry Maguire\",\"Anthony Martial\",\"Alejandro Garnacho\",\"Cristiano Ronaldo\",\"Marcel Sabitzer\",\"Anthony Elanga\",\"Donny van de Beek\",\"Facundo Pellistri\",\"Martin D\\u00fabravka\",\"Tom Heaton\",\"Kobbie Mainoo\",\"Charlie McNeill\",\"Brandon Williams\"],\"legendgroup\":\"\",\"name\":\"\",\"showlegend\":true,\"values\":[1581.0,2581.0,1020.0,2166.0,2469.0,2169.0,1891.0,1091.0,1952.0,1296.0,1356.0,1064.0,1337.0,996.0,1056.0,523.0,272.0,830.0,373.0,264.0,340.0,364.0,185.0,86.0,60.0,null,null,8.0,0.0,null],\"type\":\"pie\"}],                        {\"template\":{\"data\":{\"histogram2dcontour\":[{\"type\":\"histogram2dcontour\",\"colorbar\":{\"outlinewidth\":0,\"ticks\":\"\"},\"colorscale\":[[0.0,\"#0d0887\"],[0.1111111111111111,\"#46039f\"],[0.2222222222222222,\"#7201a8\"],[0.3333333333333333,\"#9c179e\"],[0.4444444444444444,\"#bd3786\"],[0.5555555555555556,\"#d8576b\"],[0.6666666666666666,\"#ed7953\"],[0.7777777777777778,\"#fb9f3a\"],[0.8888888888888888,\"#fdca26\"],[1.0,\"#f0f921\"]]}],\"choropleth\":[{\"type\":\"choropleth\",\"colorbar\":{\"outlinewidth\":0,\"ticks\":\"\"}}],\"histogram2d\":[{\"type\":\"histogram2d\",\"colorbar\":{\"outlinewidth\":0,\"ticks\":\"\"},\"colorscale\":[[0.0,\"#0d0887\"],[0.1111111111111111,\"#46039f\"],[0.2222222222222222,\"#7201a8\"],[0.3333333333333333,\"#9c179e\"],[0.4444444444444444,\"#bd3786\"],[0.5555555555555556,\"#d8576b\"],[0.6666666666666666,\"#ed7953\"],[0.7777777777777778,\"#fb9f3a\"],[0.8888888888888888,\"#fdca26\"],[1.0,\"#f0f921\"]]}],\"heatmap\":[{\"type\":\"heatmap\",\"colorbar\":{\"outlinewidth\":0,\"ticks\":\"\"},\"colorscale\":[[0.0,\"#0d0887\"],[0.1111111111111111,\"#46039f\"],[0.2222222222222222,\"#7201a8\"],[0.3333333333333333,\"#9c179e\"],[0.4444444444444444,\"#bd3786\"],[0.5555555555555556,\"#d8576b\"],[0.6666666666666666,\"#ed7953\"],[0.7777777777777778,\"#fb9f3a\"],[0.8888888888888888,\"#fdca26\"],[1.0,\"#f0f921\"]]}],\"heatmapgl\":[{\"type\":\"heatmapgl\",\"colorbar\":{\"outlinewidth\":0,\"ticks\":\"\"},\"colorscale\":[[0.0,\"#0d0887\"],[0.1111111111111111,\"#46039f\"],[0.2222222222222222,\"#7201a8\"],[0.3333333333333333,\"#9c179e\"],[0.4444444444444444,\"#bd3786\"],[0.5555555555555556,\"#d8576b\"],[0.6666666666666666,\"#ed7953\"],[0.7777777777777778,\"#fb9f3a\"],[0.8888888888888888,\"#fdca26\"],[1.0,\"#f0f921\"]]}],\"contourcarpet\":[{\"type\":\"contourcarpet\",\"colorbar\":{\"outlinewidth\":0,\"ticks\":\"\"}}],\"contour\":[{\"type\":\"contour\",\"colorbar\":{\"outlinewidth\":0,\"ticks\":\"\"},\"colorscale\":[[0.0,\"#0d0887\"],[0.1111111111111111,\"#46039f\"],[0.2222222222222222,\"#7201a8\"],[0.3333333333333333,\"#9c179e\"],[0.4444444444444444,\"#bd3786\"],[0.5555555555555556,\"#d8576b\"],[0.6666666666666666,\"#ed7953\"],[0.7777777777777778,\"#fb9f3a\"],[0.8888888888888888,\"#fdca26\"],[1.0,\"#f0f921\"]]}],\"surface\":[{\"type\":\"surface\",\"colorbar\":{\"outlinewidth\":0,\"ticks\":\"\"},\"colorscale\":[[0.0,\"#0d0887\"],[0.1111111111111111,\"#46039f\"],[0.2222222222222222,\"#7201a8\"],[0.3333333333333333,\"#9c179e\"],[0.4444444444444444,\"#bd3786\"],[0.5555555555555556,\"#d8576b\"],[0.6666666666666666,\"#ed7953\"],[0.7777777777777778,\"#fb9f3a\"],[0.8888888888888888,\"#fdca26\"],[1.0,\"#f0f921\"]]}],\"mesh3d\":[{\"type\":\"mesh3d\",\"colorbar\":{\"outlinewidth\":0,\"ticks\":\"\"}}],\"scatter\":[{\"fillpattern\":{\"fillmode\":\"overlay\",\"size\":10,\"solidity\":0.2},\"type\":\"scatter\"}],\"parcoords\":[{\"type\":\"parcoords\",\"line\":{\"colorbar\":{\"outlinewidth\":0,\"ticks\":\"\"}}}],\"scatterpolargl\":[{\"type\":\"scatterpolargl\",\"marker\":{\"colorbar\":{\"outlinewidth\":0,\"ticks\":\"\"}}}],\"bar\":[{\"error_x\":{\"color\":\"#2a3f5f\"},\"error_y\":{\"color\":\"#2a3f5f\"},\"marker\":{\"line\":{\"color\":\"#E5ECF6\",\"width\":0.5},\"pattern\":{\"fillmode\":\"overlay\",\"size\":10,\"solidity\":0.2}},\"type\":\"bar\"}],\"scattergeo\":[{\"type\":\"scattergeo\",\"marker\":{\"colorbar\":{\"outlinewidth\":0,\"ticks\":\"\"}}}],\"scatterpolar\":[{\"type\":\"scatterpolar\",\"marker\":{\"colorbar\":{\"outlinewidth\":0,\"ticks\":\"\"}}}],\"histogram\":[{\"marker\":{\"pattern\":{\"fillmode\":\"overlay\",\"size\":10,\"solidity\":0.2}},\"type\":\"histogram\"}],\"scattergl\":[{\"type\":\"scattergl\",\"marker\":{\"colorbar\":{\"outlinewidth\":0,\"ticks\":\"\"}}}],\"scatter3d\":[{\"type\":\"scatter3d\",\"line\":{\"colorbar\":{\"outlinewidth\":0,\"ticks\":\"\"}},\"marker\":{\"colorbar\":{\"outlinewidth\":0,\"ticks\":\"\"}}}],\"scattermapbox\":[{\"type\":\"scattermapbox\",\"marker\":{\"colorbar\":{\"outlinewidth\":0,\"ticks\":\"\"}}}],\"scatterternary\":[{\"type\":\"scatterternary\",\"marker\":{\"colorbar\":{\"outlinewidth\":0,\"ticks\":\"\"}}}],\"scattercarpet\":[{\"type\":\"scattercarpet\",\"marker\":{\"colorbar\":{\"outlinewidth\":0,\"ticks\":\"\"}}}],\"carpet\":[{\"aaxis\":{\"endlinecolor\":\"#2a3f5f\",\"gridcolor\":\"white\",\"linecolor\":\"white\",\"minorgridcolor\":\"white\",\"startlinecolor\":\"#2a3f5f\"},\"baxis\":{\"endlinecolor\":\"#2a3f5f\",\"gridcolor\":\"white\",\"linecolor\":\"white\",\"minorgridcolor\":\"white\",\"startlinecolor\":\"#2a3f5f\"},\"type\":\"carpet\"}],\"table\":[{\"cells\":{\"fill\":{\"color\":\"#EBF0F8\"},\"line\":{\"color\":\"white\"}},\"header\":{\"fill\":{\"color\":\"#C8D4E3\"},\"line\":{\"color\":\"white\"}},\"type\":\"table\"}],\"barpolar\":[{\"marker\":{\"line\":{\"color\":\"#E5ECF6\",\"width\":0.5},\"pattern\":{\"fillmode\":\"overlay\",\"size\":10,\"solidity\":0.2}},\"type\":\"barpolar\"}],\"pie\":[{\"automargin\":true,\"type\":\"pie\"}]},\"layout\":{\"autotypenumbers\":\"strict\",\"colorway\":[\"#636efa\",\"#EF553B\",\"#00cc96\",\"#ab63fa\",\"#FFA15A\",\"#19d3f3\",\"#FF6692\",\"#B6E880\",\"#FF97FF\",\"#FECB52\"],\"font\":{\"color\":\"#2a3f5f\"},\"hovermode\":\"closest\",\"hoverlabel\":{\"align\":\"left\"},\"paper_bgcolor\":\"white\",\"plot_bgcolor\":\"#E5ECF6\",\"polar\":{\"bgcolor\":\"#E5ECF6\",\"angularaxis\":{\"gridcolor\":\"white\",\"linecolor\":\"white\",\"ticks\":\"\"},\"radialaxis\":{\"gridcolor\":\"white\",\"linecolor\":\"white\",\"ticks\":\"\"}},\"ternary\":{\"bgcolor\":\"#E5ECF6\",\"aaxis\":{\"gridcolor\":\"white\",\"linecolor\":\"white\",\"ticks\":\"\"},\"baxis\":{\"gridcolor\":\"white\",\"linecolor\":\"white\",\"ticks\":\"\"},\"caxis\":{\"gridcolor\":\"white\",\"linecolor\":\"white\",\"ticks\":\"\"}},\"coloraxis\":{\"colorbar\":{\"outlinewidth\":0,\"ticks\":\"\"}},\"colorscale\":{\"sequential\":[[0.0,\"#0d0887\"],[0.1111111111111111,\"#46039f\"],[0.2222222222222222,\"#7201a8\"],[0.3333333333333333,\"#9c179e\"],[0.4444444444444444,\"#bd3786\"],[0.5555555555555556,\"#d8576b\"],[0.6666666666666666,\"#ed7953\"],[0.7777777777777778,\"#fb9f3a\"],[0.8888888888888888,\"#fdca26\"],[1.0,\"#f0f921\"]],\"sequentialminus\":[[0.0,\"#0d0887\"],[0.1111111111111111,\"#46039f\"],[0.2222222222222222,\"#7201a8\"],[0.3333333333333333,\"#9c179e\"],[0.4444444444444444,\"#bd3786\"],[0.5555555555555556,\"#d8576b\"],[0.6666666666666666,\"#ed7953\"],[0.7777777777777778,\"#fb9f3a\"],[0.8888888888888888,\"#fdca26\"],[1.0,\"#f0f921\"]],\"diverging\":[[0,\"#8e0152\"],[0.1,\"#c51b7d\"],[0.2,\"#de77ae\"],[0.3,\"#f1b6da\"],[0.4,\"#fde0ef\"],[0.5,\"#f7f7f7\"],[0.6,\"#e6f5d0\"],[0.7,\"#b8e186\"],[0.8,\"#7fbc41\"],[0.9,\"#4d9221\"],[1,\"#276419\"]]},\"xaxis\":{\"gridcolor\":\"white\",\"linecolor\":\"white\",\"ticks\":\"\",\"title\":{\"standoff\":15},\"zerolinecolor\":\"white\",\"automargin\":true,\"zerolinewidth\":2},\"yaxis\":{\"gridcolor\":\"white\",\"linecolor\":\"white\",\"ticks\":\"\",\"title\":{\"standoff\":15},\"zerolinecolor\":\"white\",\"automargin\":true,\"zerolinewidth\":2},\"scene\":{\"xaxis\":{\"backgroundcolor\":\"#E5ECF6\",\"gridcolor\":\"white\",\"linecolor\":\"white\",\"showbackground\":true,\"ticks\":\"\",\"zerolinecolor\":\"white\",\"gridwidth\":2},\"yaxis\":{\"backgroundcolor\":\"#E5ECF6\",\"gridcolor\":\"white\",\"linecolor\":\"white\",\"showbackground\":true,\"ticks\":\"\",\"zerolinecolor\":\"white\",\"gridwidth\":2},\"zaxis\":{\"backgroundcolor\":\"#E5ECF6\",\"gridcolor\":\"white\",\"linecolor\":\"white\",\"showbackground\":true,\"ticks\":\"\",\"zerolinecolor\":\"white\",\"gridwidth\":2}},\"shapedefaults\":{\"line\":{\"color\":\"#2a3f5f\"}},\"annotationdefaults\":{\"arrowcolor\":\"#2a3f5f\",\"arrowhead\":0,\"arrowwidth\":1},\"geo\":{\"bgcolor\":\"white\",\"landcolor\":\"#E5ECF6\",\"subunitcolor\":\"white\",\"showland\":true,\"showlakes\":true,\"lakecolor\":\"white\"},\"title\":{\"x\":0.05},\"mapbox\":{\"style\":\"light\"}}},\"legend\":{\"tracegroupgap\":0},\"title\":{\"text\":\"Passes Attempted Distribution by Players\"},\"font\":{\"color\":\"white\"},\"plot_bgcolor\":\"black\",\"paper_bgcolor\":\"black\"},                        {\"responsive\": true}                    ).then(function(){\n",
       "                            \n",
       "var gd = document.getElementById('609bf697-1d49-4d74-8a45-444455f01995');\n",
       "var x = new MutationObserver(function (mutations, observer) {{\n",
       "        var display = window.getComputedStyle(gd).display;\n",
       "        if (!display || display === 'none') {{\n",
       "            console.log([gd, 'removed!']);\n",
       "            Plotly.purge(gd);\n",
       "            observer.disconnect();\n",
       "        }}\n",
       "}});\n",
       "\n",
       "// Listen for the removal of the full notebook cells\n",
       "var notebookContainer = gd.closest('#notebook-container');\n",
       "if (notebookContainer) {{\n",
       "    x.observe(notebookContainer, {childList: true});\n",
       "}}\n",
       "\n",
       "// Listen for the clearing of the current output cell\n",
       "var outputEl = gd.closest('.output');\n",
       "if (outputEl) {{\n",
       "    x.observe(outputEl, {childList: true});\n",
       "}}\n",
       "\n",
       "                        })                };                });            </script>        </div>"
      ]
     },
     "metadata": {},
     "output_type": "display_data"
    }
   ],
   "source": [
    "\n",
    "# Plotting using Plotly Express\n",
    "fig = px.pie(df2, values='TAtt', names='Player', title='Passes Attempted Distribution by Players')\n",
    "\n",
    "# Update the layout to set the background color\n",
    "fig.update_layout(\n",
    "    plot_bgcolor='black',  # Set the background color to black\n",
    "    paper_bgcolor='black',  # Set the paper color to black (outside the plot area)\n",
    "    font=dict(color='white')  # Set the font color to white for better visibility\n",
    ")\n",
    "\n",
    "# Show the figure\n",
    "fig.show()\n"
   ]
  },
  {
   "cell_type": "code",
   "execution_count": 15,
   "id": "b1bcc9f1",
   "metadata": {},
   "outputs": [
    {
     "data": {
      "application/vnd.plotly.v1+json": {
       "config": {
        "plotlyServerURL": "https://plot.ly"
       },
       "data": [
        {
         "alignmentgroup": "True",
         "hovertemplate": "Player=%{x}<br>TCmp%=%{y}<extra></extra>",
         "legendgroup": "",
         "marker": {
          "color": "red",
          "pattern": {
           "shape": ""
          }
         },
         "name": "",
         "offsetgroup": "",
         "orientation": "v",
         "showlegend": false,
         "textposition": "auto",
         "type": "bar",
         "x": [
          "Victor Lindelöf",
          "Kobbie Mainoo",
          "Tyrell Malacia",
          "Lisandro Martínez",
          "Raphaël Varane",
          "Harry Maguire",
          "Jadon Sancho",
          "Aaron Wan-Bissaka",
          "Luke Shaw",
          "Scott McTominay",
          "Facundo Pellistri",
          "Christian Eriksen",
          "Diogo Dalot",
          "Fred",
          "Alejandro Garnacho",
          "Anthony Martial",
          "Cristiano Ronaldo",
          "Antony",
          "Casemiro",
          "Marcus Rashford",
          "Donny van de Beek",
          "Marcel Sabitzer",
          "Bruno Fernandes",
          "David de Gea",
          "Anthony Elanga",
          "Wout Weghorst",
          "Martin Dúbravka",
          "Tom Heaton",
          "Charlie McNeill",
          "Brandon Williams"
         ],
         "xaxis": "x",
         "y": [
          93.6,
          87.5,
          87.3,
          87,
          86.6,
          85.2,
          83.9,
          83.5,
          82.9,
          81.8,
          81.7,
          81,
          80.8,
          80.3,
          79.9,
          79.6,
          79.4,
          79.2,
          77.8,
          77.2,
          75.6,
          74.7,
          74.4,
          72.6,
          72.4,
          71.3,
          null,
          null,
          null,
          null
         ],
         "yaxis": "y"
        }
       ],
       "layout": {
        "barmode": "relative",
        "font": {
         "color": "white"
        },
        "legend": {
         "tracegroupgap": 0
        },
        "paper_bgcolor": "black",
        "plot_bgcolor": "black",
        "template": {
         "data": {
          "bar": [
           {
            "error_x": {
             "color": "#2a3f5f"
            },
            "error_y": {
             "color": "#2a3f5f"
            },
            "marker": {
             "line": {
              "color": "#E5ECF6",
              "width": 0.5
             },
             "pattern": {
              "fillmode": "overlay",
              "size": 10,
              "solidity": 0.2
             }
            },
            "type": "bar"
           }
          ],
          "barpolar": [
           {
            "marker": {
             "line": {
              "color": "#E5ECF6",
              "width": 0.5
             },
             "pattern": {
              "fillmode": "overlay",
              "size": 10,
              "solidity": 0.2
             }
            },
            "type": "barpolar"
           }
          ],
          "carpet": [
           {
            "aaxis": {
             "endlinecolor": "#2a3f5f",
             "gridcolor": "white",
             "linecolor": "white",
             "minorgridcolor": "white",
             "startlinecolor": "#2a3f5f"
            },
            "baxis": {
             "endlinecolor": "#2a3f5f",
             "gridcolor": "white",
             "linecolor": "white",
             "minorgridcolor": "white",
             "startlinecolor": "#2a3f5f"
            },
            "type": "carpet"
           }
          ],
          "choropleth": [
           {
            "colorbar": {
             "outlinewidth": 0,
             "ticks": ""
            },
            "type": "choropleth"
           }
          ],
          "contour": [
           {
            "colorbar": {
             "outlinewidth": 0,
             "ticks": ""
            },
            "colorscale": [
             [
              0,
              "#0d0887"
             ],
             [
              0.1111111111111111,
              "#46039f"
             ],
             [
              0.2222222222222222,
              "#7201a8"
             ],
             [
              0.3333333333333333,
              "#9c179e"
             ],
             [
              0.4444444444444444,
              "#bd3786"
             ],
             [
              0.5555555555555556,
              "#d8576b"
             ],
             [
              0.6666666666666666,
              "#ed7953"
             ],
             [
              0.7777777777777778,
              "#fb9f3a"
             ],
             [
              0.8888888888888888,
              "#fdca26"
             ],
             [
              1,
              "#f0f921"
             ]
            ],
            "type": "contour"
           }
          ],
          "contourcarpet": [
           {
            "colorbar": {
             "outlinewidth": 0,
             "ticks": ""
            },
            "type": "contourcarpet"
           }
          ],
          "heatmap": [
           {
            "colorbar": {
             "outlinewidth": 0,
             "ticks": ""
            },
            "colorscale": [
             [
              0,
              "#0d0887"
             ],
             [
              0.1111111111111111,
              "#46039f"
             ],
             [
              0.2222222222222222,
              "#7201a8"
             ],
             [
              0.3333333333333333,
              "#9c179e"
             ],
             [
              0.4444444444444444,
              "#bd3786"
             ],
             [
              0.5555555555555556,
              "#d8576b"
             ],
             [
              0.6666666666666666,
              "#ed7953"
             ],
             [
              0.7777777777777778,
              "#fb9f3a"
             ],
             [
              0.8888888888888888,
              "#fdca26"
             ],
             [
              1,
              "#f0f921"
             ]
            ],
            "type": "heatmap"
           }
          ],
          "heatmapgl": [
           {
            "colorbar": {
             "outlinewidth": 0,
             "ticks": ""
            },
            "colorscale": [
             [
              0,
              "#0d0887"
             ],
             [
              0.1111111111111111,
              "#46039f"
             ],
             [
              0.2222222222222222,
              "#7201a8"
             ],
             [
              0.3333333333333333,
              "#9c179e"
             ],
             [
              0.4444444444444444,
              "#bd3786"
             ],
             [
              0.5555555555555556,
              "#d8576b"
             ],
             [
              0.6666666666666666,
              "#ed7953"
             ],
             [
              0.7777777777777778,
              "#fb9f3a"
             ],
             [
              0.8888888888888888,
              "#fdca26"
             ],
             [
              1,
              "#f0f921"
             ]
            ],
            "type": "heatmapgl"
           }
          ],
          "histogram": [
           {
            "marker": {
             "pattern": {
              "fillmode": "overlay",
              "size": 10,
              "solidity": 0.2
             }
            },
            "type": "histogram"
           }
          ],
          "histogram2d": [
           {
            "colorbar": {
             "outlinewidth": 0,
             "ticks": ""
            },
            "colorscale": [
             [
              0,
              "#0d0887"
             ],
             [
              0.1111111111111111,
              "#46039f"
             ],
             [
              0.2222222222222222,
              "#7201a8"
             ],
             [
              0.3333333333333333,
              "#9c179e"
             ],
             [
              0.4444444444444444,
              "#bd3786"
             ],
             [
              0.5555555555555556,
              "#d8576b"
             ],
             [
              0.6666666666666666,
              "#ed7953"
             ],
             [
              0.7777777777777778,
              "#fb9f3a"
             ],
             [
              0.8888888888888888,
              "#fdca26"
             ],
             [
              1,
              "#f0f921"
             ]
            ],
            "type": "histogram2d"
           }
          ],
          "histogram2dcontour": [
           {
            "colorbar": {
             "outlinewidth": 0,
             "ticks": ""
            },
            "colorscale": [
             [
              0,
              "#0d0887"
             ],
             [
              0.1111111111111111,
              "#46039f"
             ],
             [
              0.2222222222222222,
              "#7201a8"
             ],
             [
              0.3333333333333333,
              "#9c179e"
             ],
             [
              0.4444444444444444,
              "#bd3786"
             ],
             [
              0.5555555555555556,
              "#d8576b"
             ],
             [
              0.6666666666666666,
              "#ed7953"
             ],
             [
              0.7777777777777778,
              "#fb9f3a"
             ],
             [
              0.8888888888888888,
              "#fdca26"
             ],
             [
              1,
              "#f0f921"
             ]
            ],
            "type": "histogram2dcontour"
           }
          ],
          "mesh3d": [
           {
            "colorbar": {
             "outlinewidth": 0,
             "ticks": ""
            },
            "type": "mesh3d"
           }
          ],
          "parcoords": [
           {
            "line": {
             "colorbar": {
              "outlinewidth": 0,
              "ticks": ""
             }
            },
            "type": "parcoords"
           }
          ],
          "pie": [
           {
            "automargin": true,
            "type": "pie"
           }
          ],
          "scatter": [
           {
            "fillpattern": {
             "fillmode": "overlay",
             "size": 10,
             "solidity": 0.2
            },
            "type": "scatter"
           }
          ],
          "scatter3d": [
           {
            "line": {
             "colorbar": {
              "outlinewidth": 0,
              "ticks": ""
             }
            },
            "marker": {
             "colorbar": {
              "outlinewidth": 0,
              "ticks": ""
             }
            },
            "type": "scatter3d"
           }
          ],
          "scattercarpet": [
           {
            "marker": {
             "colorbar": {
              "outlinewidth": 0,
              "ticks": ""
             }
            },
            "type": "scattercarpet"
           }
          ],
          "scattergeo": [
           {
            "marker": {
             "colorbar": {
              "outlinewidth": 0,
              "ticks": ""
             }
            },
            "type": "scattergeo"
           }
          ],
          "scattergl": [
           {
            "marker": {
             "colorbar": {
              "outlinewidth": 0,
              "ticks": ""
             }
            },
            "type": "scattergl"
           }
          ],
          "scattermapbox": [
           {
            "marker": {
             "colorbar": {
              "outlinewidth": 0,
              "ticks": ""
             }
            },
            "type": "scattermapbox"
           }
          ],
          "scatterpolar": [
           {
            "marker": {
             "colorbar": {
              "outlinewidth": 0,
              "ticks": ""
             }
            },
            "type": "scatterpolar"
           }
          ],
          "scatterpolargl": [
           {
            "marker": {
             "colorbar": {
              "outlinewidth": 0,
              "ticks": ""
             }
            },
            "type": "scatterpolargl"
           }
          ],
          "scatterternary": [
           {
            "marker": {
             "colorbar": {
              "outlinewidth": 0,
              "ticks": ""
             }
            },
            "type": "scatterternary"
           }
          ],
          "surface": [
           {
            "colorbar": {
             "outlinewidth": 0,
             "ticks": ""
            },
            "colorscale": [
             [
              0,
              "#0d0887"
             ],
             [
              0.1111111111111111,
              "#46039f"
             ],
             [
              0.2222222222222222,
              "#7201a8"
             ],
             [
              0.3333333333333333,
              "#9c179e"
             ],
             [
              0.4444444444444444,
              "#bd3786"
             ],
             [
              0.5555555555555556,
              "#d8576b"
             ],
             [
              0.6666666666666666,
              "#ed7953"
             ],
             [
              0.7777777777777778,
              "#fb9f3a"
             ],
             [
              0.8888888888888888,
              "#fdca26"
             ],
             [
              1,
              "#f0f921"
             ]
            ],
            "type": "surface"
           }
          ],
          "table": [
           {
            "cells": {
             "fill": {
              "color": "#EBF0F8"
             },
             "line": {
              "color": "white"
             }
            },
            "header": {
             "fill": {
              "color": "#C8D4E3"
             },
             "line": {
              "color": "white"
             }
            },
            "type": "table"
           }
          ]
         },
         "layout": {
          "annotationdefaults": {
           "arrowcolor": "#2a3f5f",
           "arrowhead": 0,
           "arrowwidth": 1
          },
          "autotypenumbers": "strict",
          "coloraxis": {
           "colorbar": {
            "outlinewidth": 0,
            "ticks": ""
           }
          },
          "colorscale": {
           "diverging": [
            [
             0,
             "#8e0152"
            ],
            [
             0.1,
             "#c51b7d"
            ],
            [
             0.2,
             "#de77ae"
            ],
            [
             0.3,
             "#f1b6da"
            ],
            [
             0.4,
             "#fde0ef"
            ],
            [
             0.5,
             "#f7f7f7"
            ],
            [
             0.6,
             "#e6f5d0"
            ],
            [
             0.7,
             "#b8e186"
            ],
            [
             0.8,
             "#7fbc41"
            ],
            [
             0.9,
             "#4d9221"
            ],
            [
             1,
             "#276419"
            ]
           ],
           "sequential": [
            [
             0,
             "#0d0887"
            ],
            [
             0.1111111111111111,
             "#46039f"
            ],
            [
             0.2222222222222222,
             "#7201a8"
            ],
            [
             0.3333333333333333,
             "#9c179e"
            ],
            [
             0.4444444444444444,
             "#bd3786"
            ],
            [
             0.5555555555555556,
             "#d8576b"
            ],
            [
             0.6666666666666666,
             "#ed7953"
            ],
            [
             0.7777777777777778,
             "#fb9f3a"
            ],
            [
             0.8888888888888888,
             "#fdca26"
            ],
            [
             1,
             "#f0f921"
            ]
           ],
           "sequentialminus": [
            [
             0,
             "#0d0887"
            ],
            [
             0.1111111111111111,
             "#46039f"
            ],
            [
             0.2222222222222222,
             "#7201a8"
            ],
            [
             0.3333333333333333,
             "#9c179e"
            ],
            [
             0.4444444444444444,
             "#bd3786"
            ],
            [
             0.5555555555555556,
             "#d8576b"
            ],
            [
             0.6666666666666666,
             "#ed7953"
            ],
            [
             0.7777777777777778,
             "#fb9f3a"
            ],
            [
             0.8888888888888888,
             "#fdca26"
            ],
            [
             1,
             "#f0f921"
            ]
           ]
          },
          "colorway": [
           "#636efa",
           "#EF553B",
           "#00cc96",
           "#ab63fa",
           "#FFA15A",
           "#19d3f3",
           "#FF6692",
           "#B6E880",
           "#FF97FF",
           "#FECB52"
          ],
          "font": {
           "color": "#2a3f5f"
          },
          "geo": {
           "bgcolor": "white",
           "lakecolor": "white",
           "landcolor": "#E5ECF6",
           "showlakes": true,
           "showland": true,
           "subunitcolor": "white"
          },
          "hoverlabel": {
           "align": "left"
          },
          "hovermode": "closest",
          "mapbox": {
           "style": "light"
          },
          "paper_bgcolor": "white",
          "plot_bgcolor": "#E5ECF6",
          "polar": {
           "angularaxis": {
            "gridcolor": "white",
            "linecolor": "white",
            "ticks": ""
           },
           "bgcolor": "#E5ECF6",
           "radialaxis": {
            "gridcolor": "white",
            "linecolor": "white",
            "ticks": ""
           }
          },
          "scene": {
           "xaxis": {
            "backgroundcolor": "#E5ECF6",
            "gridcolor": "white",
            "gridwidth": 2,
            "linecolor": "white",
            "showbackground": true,
            "ticks": "",
            "zerolinecolor": "white"
           },
           "yaxis": {
            "backgroundcolor": "#E5ECF6",
            "gridcolor": "white",
            "gridwidth": 2,
            "linecolor": "white",
            "showbackground": true,
            "ticks": "",
            "zerolinecolor": "white"
           },
           "zaxis": {
            "backgroundcolor": "#E5ECF6",
            "gridcolor": "white",
            "gridwidth": 2,
            "linecolor": "white",
            "showbackground": true,
            "ticks": "",
            "zerolinecolor": "white"
           }
          },
          "shapedefaults": {
           "line": {
            "color": "#2a3f5f"
           }
          },
          "ternary": {
           "aaxis": {
            "gridcolor": "white",
            "linecolor": "white",
            "ticks": ""
           },
           "baxis": {
            "gridcolor": "white",
            "linecolor": "white",
            "ticks": ""
           },
           "bgcolor": "#E5ECF6",
           "caxis": {
            "gridcolor": "white",
            "linecolor": "white",
            "ticks": ""
           }
          },
          "title": {
           "x": 0.05
          },
          "xaxis": {
           "automargin": true,
           "gridcolor": "white",
           "linecolor": "white",
           "ticks": "",
           "title": {
            "standoff": 15
           },
           "zerolinecolor": "white",
           "zerolinewidth": 2
          },
          "yaxis": {
           "automargin": true,
           "gridcolor": "white",
           "linecolor": "white",
           "ticks": "",
           "title": {
            "standoff": 15
           },
           "zerolinecolor": "white",
           "zerolinewidth": 2
          }
         }
        },
        "title": {
         "text": "Pass completion rate"
        },
        "xaxis": {
         "anchor": "y",
         "domain": [
          0,
          1
         ],
         "title": {
          "text": "Player"
         }
        },
        "yaxis": {
         "anchor": "x",
         "domain": [
          0,
          1
         ],
         "title": {
          "text": "TCmp%"
         }
        }
       }
      },
      "text/html": [
       "<div>                            <div id=\"0b27d052-85a4-45ba-93c6-daa79d5f25c5\" class=\"plotly-graph-div\" style=\"height:525px; width:100%;\"></div>            <script type=\"text/javascript\">                require([\"plotly\"], function(Plotly) {                    window.PLOTLYENV=window.PLOTLYENV || {};                                    if (document.getElementById(\"0b27d052-85a4-45ba-93c6-daa79d5f25c5\")) {                    Plotly.newPlot(                        \"0b27d052-85a4-45ba-93c6-daa79d5f25c5\",                        [{\"alignmentgroup\":\"True\",\"hovertemplate\":\"Player=%{x}<br>TCmp%=%{y}<extra></extra>\",\"legendgroup\":\"\",\"marker\":{\"color\":\"red\",\"pattern\":{\"shape\":\"\"}},\"name\":\"\",\"offsetgroup\":\"\",\"orientation\":\"v\",\"showlegend\":false,\"textposition\":\"auto\",\"x\":[\"Victor Lindel\\u00f6f\",\"Kobbie Mainoo\",\"Tyrell Malacia\",\"Lisandro Mart\\u00ednez\",\"Rapha\\u00ebl Varane\",\"Harry Maguire\",\"Jadon Sancho\",\"Aaron Wan-Bissaka\",\"Luke Shaw\",\"Scott McTominay\",\"Facundo Pellistri\",\"Christian Eriksen\",\"Diogo Dalot\",\"Fred\",\"Alejandro Garnacho\",\"Anthony Martial\",\"Cristiano Ronaldo\",\"Antony\",\"Casemiro\",\"Marcus Rashford\",\"Donny van de Beek\",\"Marcel Sabitzer\",\"Bruno Fernandes\",\"David de Gea\",\"Anthony Elanga\",\"Wout Weghorst\",\"Martin D\\u00fabravka\",\"Tom Heaton\",\"Charlie McNeill\",\"Brandon Williams\"],\"xaxis\":\"x\",\"y\":[93.6,87.5,87.3,87.0,86.6,85.2,83.9,83.5,82.9,81.8,81.7,81.0,80.8,80.3,79.9,79.6,79.4,79.2,77.8,77.2,75.6,74.7,74.4,72.6,72.4,71.3,null,null,null,null],\"yaxis\":\"y\",\"type\":\"bar\"}],                        {\"template\":{\"data\":{\"histogram2dcontour\":[{\"type\":\"histogram2dcontour\",\"colorbar\":{\"outlinewidth\":0,\"ticks\":\"\"},\"colorscale\":[[0.0,\"#0d0887\"],[0.1111111111111111,\"#46039f\"],[0.2222222222222222,\"#7201a8\"],[0.3333333333333333,\"#9c179e\"],[0.4444444444444444,\"#bd3786\"],[0.5555555555555556,\"#d8576b\"],[0.6666666666666666,\"#ed7953\"],[0.7777777777777778,\"#fb9f3a\"],[0.8888888888888888,\"#fdca26\"],[1.0,\"#f0f921\"]]}],\"choropleth\":[{\"type\":\"choropleth\",\"colorbar\":{\"outlinewidth\":0,\"ticks\":\"\"}}],\"histogram2d\":[{\"type\":\"histogram2d\",\"colorbar\":{\"outlinewidth\":0,\"ticks\":\"\"},\"colorscale\":[[0.0,\"#0d0887\"],[0.1111111111111111,\"#46039f\"],[0.2222222222222222,\"#7201a8\"],[0.3333333333333333,\"#9c179e\"],[0.4444444444444444,\"#bd3786\"],[0.5555555555555556,\"#d8576b\"],[0.6666666666666666,\"#ed7953\"],[0.7777777777777778,\"#fb9f3a\"],[0.8888888888888888,\"#fdca26\"],[1.0,\"#f0f921\"]]}],\"heatmap\":[{\"type\":\"heatmap\",\"colorbar\":{\"outlinewidth\":0,\"ticks\":\"\"},\"colorscale\":[[0.0,\"#0d0887\"],[0.1111111111111111,\"#46039f\"],[0.2222222222222222,\"#7201a8\"],[0.3333333333333333,\"#9c179e\"],[0.4444444444444444,\"#bd3786\"],[0.5555555555555556,\"#d8576b\"],[0.6666666666666666,\"#ed7953\"],[0.7777777777777778,\"#fb9f3a\"],[0.8888888888888888,\"#fdca26\"],[1.0,\"#f0f921\"]]}],\"heatmapgl\":[{\"type\":\"heatmapgl\",\"colorbar\":{\"outlinewidth\":0,\"ticks\":\"\"},\"colorscale\":[[0.0,\"#0d0887\"],[0.1111111111111111,\"#46039f\"],[0.2222222222222222,\"#7201a8\"],[0.3333333333333333,\"#9c179e\"],[0.4444444444444444,\"#bd3786\"],[0.5555555555555556,\"#d8576b\"],[0.6666666666666666,\"#ed7953\"],[0.7777777777777778,\"#fb9f3a\"],[0.8888888888888888,\"#fdca26\"],[1.0,\"#f0f921\"]]}],\"contourcarpet\":[{\"type\":\"contourcarpet\",\"colorbar\":{\"outlinewidth\":0,\"ticks\":\"\"}}],\"contour\":[{\"type\":\"contour\",\"colorbar\":{\"outlinewidth\":0,\"ticks\":\"\"},\"colorscale\":[[0.0,\"#0d0887\"],[0.1111111111111111,\"#46039f\"],[0.2222222222222222,\"#7201a8\"],[0.3333333333333333,\"#9c179e\"],[0.4444444444444444,\"#bd3786\"],[0.5555555555555556,\"#d8576b\"],[0.6666666666666666,\"#ed7953\"],[0.7777777777777778,\"#fb9f3a\"],[0.8888888888888888,\"#fdca26\"],[1.0,\"#f0f921\"]]}],\"surface\":[{\"type\":\"surface\",\"colorbar\":{\"outlinewidth\":0,\"ticks\":\"\"},\"colorscale\":[[0.0,\"#0d0887\"],[0.1111111111111111,\"#46039f\"],[0.2222222222222222,\"#7201a8\"],[0.3333333333333333,\"#9c179e\"],[0.4444444444444444,\"#bd3786\"],[0.5555555555555556,\"#d8576b\"],[0.6666666666666666,\"#ed7953\"],[0.7777777777777778,\"#fb9f3a\"],[0.8888888888888888,\"#fdca26\"],[1.0,\"#f0f921\"]]}],\"mesh3d\":[{\"type\":\"mesh3d\",\"colorbar\":{\"outlinewidth\":0,\"ticks\":\"\"}}],\"scatter\":[{\"fillpattern\":{\"fillmode\":\"overlay\",\"size\":10,\"solidity\":0.2},\"type\":\"scatter\"}],\"parcoords\":[{\"type\":\"parcoords\",\"line\":{\"colorbar\":{\"outlinewidth\":0,\"ticks\":\"\"}}}],\"scatterpolargl\":[{\"type\":\"scatterpolargl\",\"marker\":{\"colorbar\":{\"outlinewidth\":0,\"ticks\":\"\"}}}],\"bar\":[{\"error_x\":{\"color\":\"#2a3f5f\"},\"error_y\":{\"color\":\"#2a3f5f\"},\"marker\":{\"line\":{\"color\":\"#E5ECF6\",\"width\":0.5},\"pattern\":{\"fillmode\":\"overlay\",\"size\":10,\"solidity\":0.2}},\"type\":\"bar\"}],\"scattergeo\":[{\"type\":\"scattergeo\",\"marker\":{\"colorbar\":{\"outlinewidth\":0,\"ticks\":\"\"}}}],\"scatterpolar\":[{\"type\":\"scatterpolar\",\"marker\":{\"colorbar\":{\"outlinewidth\":0,\"ticks\":\"\"}}}],\"histogram\":[{\"marker\":{\"pattern\":{\"fillmode\":\"overlay\",\"size\":10,\"solidity\":0.2}},\"type\":\"histogram\"}],\"scattergl\":[{\"type\":\"scattergl\",\"marker\":{\"colorbar\":{\"outlinewidth\":0,\"ticks\":\"\"}}}],\"scatter3d\":[{\"type\":\"scatter3d\",\"line\":{\"colorbar\":{\"outlinewidth\":0,\"ticks\":\"\"}},\"marker\":{\"colorbar\":{\"outlinewidth\":0,\"ticks\":\"\"}}}],\"scattermapbox\":[{\"type\":\"scattermapbox\",\"marker\":{\"colorbar\":{\"outlinewidth\":0,\"ticks\":\"\"}}}],\"scatterternary\":[{\"type\":\"scatterternary\",\"marker\":{\"colorbar\":{\"outlinewidth\":0,\"ticks\":\"\"}}}],\"scattercarpet\":[{\"type\":\"scattercarpet\",\"marker\":{\"colorbar\":{\"outlinewidth\":0,\"ticks\":\"\"}}}],\"carpet\":[{\"aaxis\":{\"endlinecolor\":\"#2a3f5f\",\"gridcolor\":\"white\",\"linecolor\":\"white\",\"minorgridcolor\":\"white\",\"startlinecolor\":\"#2a3f5f\"},\"baxis\":{\"endlinecolor\":\"#2a3f5f\",\"gridcolor\":\"white\",\"linecolor\":\"white\",\"minorgridcolor\":\"white\",\"startlinecolor\":\"#2a3f5f\"},\"type\":\"carpet\"}],\"table\":[{\"cells\":{\"fill\":{\"color\":\"#EBF0F8\"},\"line\":{\"color\":\"white\"}},\"header\":{\"fill\":{\"color\":\"#C8D4E3\"},\"line\":{\"color\":\"white\"}},\"type\":\"table\"}],\"barpolar\":[{\"marker\":{\"line\":{\"color\":\"#E5ECF6\",\"width\":0.5},\"pattern\":{\"fillmode\":\"overlay\",\"size\":10,\"solidity\":0.2}},\"type\":\"barpolar\"}],\"pie\":[{\"automargin\":true,\"type\":\"pie\"}]},\"layout\":{\"autotypenumbers\":\"strict\",\"colorway\":[\"#636efa\",\"#EF553B\",\"#00cc96\",\"#ab63fa\",\"#FFA15A\",\"#19d3f3\",\"#FF6692\",\"#B6E880\",\"#FF97FF\",\"#FECB52\"],\"font\":{\"color\":\"#2a3f5f\"},\"hovermode\":\"closest\",\"hoverlabel\":{\"align\":\"left\"},\"paper_bgcolor\":\"white\",\"plot_bgcolor\":\"#E5ECF6\",\"polar\":{\"bgcolor\":\"#E5ECF6\",\"angularaxis\":{\"gridcolor\":\"white\",\"linecolor\":\"white\",\"ticks\":\"\"},\"radialaxis\":{\"gridcolor\":\"white\",\"linecolor\":\"white\",\"ticks\":\"\"}},\"ternary\":{\"bgcolor\":\"#E5ECF6\",\"aaxis\":{\"gridcolor\":\"white\",\"linecolor\":\"white\",\"ticks\":\"\"},\"baxis\":{\"gridcolor\":\"white\",\"linecolor\":\"white\",\"ticks\":\"\"},\"caxis\":{\"gridcolor\":\"white\",\"linecolor\":\"white\",\"ticks\":\"\"}},\"coloraxis\":{\"colorbar\":{\"outlinewidth\":0,\"ticks\":\"\"}},\"colorscale\":{\"sequential\":[[0.0,\"#0d0887\"],[0.1111111111111111,\"#46039f\"],[0.2222222222222222,\"#7201a8\"],[0.3333333333333333,\"#9c179e\"],[0.4444444444444444,\"#bd3786\"],[0.5555555555555556,\"#d8576b\"],[0.6666666666666666,\"#ed7953\"],[0.7777777777777778,\"#fb9f3a\"],[0.8888888888888888,\"#fdca26\"],[1.0,\"#f0f921\"]],\"sequentialminus\":[[0.0,\"#0d0887\"],[0.1111111111111111,\"#46039f\"],[0.2222222222222222,\"#7201a8\"],[0.3333333333333333,\"#9c179e\"],[0.4444444444444444,\"#bd3786\"],[0.5555555555555556,\"#d8576b\"],[0.6666666666666666,\"#ed7953\"],[0.7777777777777778,\"#fb9f3a\"],[0.8888888888888888,\"#fdca26\"],[1.0,\"#f0f921\"]],\"diverging\":[[0,\"#8e0152\"],[0.1,\"#c51b7d\"],[0.2,\"#de77ae\"],[0.3,\"#f1b6da\"],[0.4,\"#fde0ef\"],[0.5,\"#f7f7f7\"],[0.6,\"#e6f5d0\"],[0.7,\"#b8e186\"],[0.8,\"#7fbc41\"],[0.9,\"#4d9221\"],[1,\"#276419\"]]},\"xaxis\":{\"gridcolor\":\"white\",\"linecolor\":\"white\",\"ticks\":\"\",\"title\":{\"standoff\":15},\"zerolinecolor\":\"white\",\"automargin\":true,\"zerolinewidth\":2},\"yaxis\":{\"gridcolor\":\"white\",\"linecolor\":\"white\",\"ticks\":\"\",\"title\":{\"standoff\":15},\"zerolinecolor\":\"white\",\"automargin\":true,\"zerolinewidth\":2},\"scene\":{\"xaxis\":{\"backgroundcolor\":\"#E5ECF6\",\"gridcolor\":\"white\",\"linecolor\":\"white\",\"showbackground\":true,\"ticks\":\"\",\"zerolinecolor\":\"white\",\"gridwidth\":2},\"yaxis\":{\"backgroundcolor\":\"#E5ECF6\",\"gridcolor\":\"white\",\"linecolor\":\"white\",\"showbackground\":true,\"ticks\":\"\",\"zerolinecolor\":\"white\",\"gridwidth\":2},\"zaxis\":{\"backgroundcolor\":\"#E5ECF6\",\"gridcolor\":\"white\",\"linecolor\":\"white\",\"showbackground\":true,\"ticks\":\"\",\"zerolinecolor\":\"white\",\"gridwidth\":2}},\"shapedefaults\":{\"line\":{\"color\":\"#2a3f5f\"}},\"annotationdefaults\":{\"arrowcolor\":\"#2a3f5f\",\"arrowhead\":0,\"arrowwidth\":1},\"geo\":{\"bgcolor\":\"white\",\"landcolor\":\"#E5ECF6\",\"subunitcolor\":\"white\",\"showland\":true,\"showlakes\":true,\"lakecolor\":\"white\"},\"title\":{\"x\":0.05},\"mapbox\":{\"style\":\"light\"}}},\"xaxis\":{\"anchor\":\"y\",\"domain\":[0.0,1.0],\"title\":{\"text\":\"Player\"}},\"yaxis\":{\"anchor\":\"x\",\"domain\":[0.0,1.0],\"title\":{\"text\":\"TCmp%\"}},\"legend\":{\"tracegroupgap\":0},\"title\":{\"text\":\"Pass completion rate\"},\"barmode\":\"relative\",\"font\":{\"color\":\"white\"},\"plot_bgcolor\":\"black\",\"paper_bgcolor\":\"black\"},                        {\"responsive\": true}                    ).then(function(){\n",
       "                            \n",
       "var gd = document.getElementById('0b27d052-85a4-45ba-93c6-daa79d5f25c5');\n",
       "var x = new MutationObserver(function (mutations, observer) {{\n",
       "        var display = window.getComputedStyle(gd).display;\n",
       "        if (!display || display === 'none') {{\n",
       "            console.log([gd, 'removed!']);\n",
       "            Plotly.purge(gd);\n",
       "            observer.disconnect();\n",
       "        }}\n",
       "}});\n",
       "\n",
       "// Listen for the removal of the full notebook cells\n",
       "var notebookContainer = gd.closest('#notebook-container');\n",
       "if (notebookContainer) {{\n",
       "    x.observe(notebookContainer, {childList: true});\n",
       "}}\n",
       "\n",
       "// Listen for the clearing of the current output cell\n",
       "var outputEl = gd.closest('.output');\n",
       "if (outputEl) {{\n",
       "    x.observe(outputEl, {childList: true});\n",
       "}}\n",
       "\n",
       "                        })                };                });            </script>        </div>"
      ]
     },
     "metadata": {},
     "output_type": "display_data"
    }
   ],
   "source": [
    "# Sort the DataFrame based on TCmp% in descending order\n",
    "df_sorted = df2.sort_values(by='TCmp%', ascending=False)\n",
    "\n",
    "# Plotting using Plotly Express\n",
    "fig = px.bar(df_sorted, x='Player', y='TCmp%', title='Pass completion rate')\n",
    "fig.update_traces(marker_color='red')\n",
    "fig.update_layout(plot_bgcolor='black', paper_bgcolor='black', font_color='white')\n",
    "fig.show()"
   ]
  },
  {
   "cell_type": "code",
   "execution_count": null,
   "id": "6958c7d4",
   "metadata": {},
   "outputs": [],
   "source": []
  },
  {
   "cell_type": "code",
   "execution_count": null,
   "id": "e4048c9c",
   "metadata": {},
   "outputs": [],
   "source": []
  }
 ],
 "metadata": {
  "kernelspec": {
   "display_name": "Python 3 (ipykernel)",
   "language": "python",
   "name": "python3"
  },
  "language_info": {
   "codemirror_mode": {
    "name": "ipython",
    "version": 3
   },
   "file_extension": ".py",
   "mimetype": "text/x-python",
   "name": "python",
   "nbconvert_exporter": "python",
   "pygments_lexer": "ipython3",
   "version": "3.11.5"
  }
 },
 "nbformat": 4,
 "nbformat_minor": 5
}
